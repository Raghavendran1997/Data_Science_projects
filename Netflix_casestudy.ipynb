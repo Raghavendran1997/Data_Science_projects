{
 "cells": [
  {
   "cell_type": "markdown",
   "id": "3440ef7d",
   "metadata": {},
   "source": [
    "## Netlflix Case Study"
   ]
  },
  {
   "cell_type": "markdown",
   "id": "21a01306",
   "metadata": {},
   "source": [
    "#### Business Problem\n",
    "\n",
    "Analyze the data and generate insights that could help Netflix in deciding which type of shows/movies to produce and how they can grow the business in different countries"
   ]
  },
  {
   "cell_type": "markdown",
   "id": "7cedf7fd",
   "metadata": {},
   "source": [
    "#### About NETFLIX\n",
    "\n",
    "Netflix is one of the most popular media and video streaming platforms. They have over 10000 movies or tv shows available on their platform, as of mid-2021, they have over 222M Subscribers globally. This tabular dataset consists of listings of all the movies and tv shows available on Netflix, along with details such as - cast, directors, ratings, release year, duration, etc."
   ]
  },
  {
   "cell_type": "code",
   "execution_count": 1,
   "id": "24b5aad6",
   "metadata": {},
   "outputs": [],
   "source": [
    "# importing the libraries necessary\n",
    "import numpy as np\n",
    "import pandas as pd\n",
    "import matplotlib.pyplot as plt\n",
    "import seaborn as sns"
   ]
  },
  {
   "cell_type": "code",
   "execution_count": 2,
   "id": "717f2060",
   "metadata": {},
   "outputs": [],
   "source": [
    "# loading the dataset\n",
    "data = pd.read_csv(\"netflix.csv\")"
   ]
  },
  {
   "cell_type": "code",
   "execution_count": 3,
   "id": "ef53aff6",
   "metadata": {},
   "outputs": [
    {
     "data": {
      "text/html": [
       "<div>\n",
       "<style scoped>\n",
       "    .dataframe tbody tr th:only-of-type {\n",
       "        vertical-align: middle;\n",
       "    }\n",
       "\n",
       "    .dataframe tbody tr th {\n",
       "        vertical-align: top;\n",
       "    }\n",
       "\n",
       "    .dataframe thead th {\n",
       "        text-align: right;\n",
       "    }\n",
       "</style>\n",
       "<table border=\"1\" class=\"dataframe\">\n",
       "  <thead>\n",
       "    <tr style=\"text-align: right;\">\n",
       "      <th></th>\n",
       "      <th>show_id</th>\n",
       "      <th>type</th>\n",
       "      <th>title</th>\n",
       "      <th>director</th>\n",
       "      <th>cast</th>\n",
       "      <th>country</th>\n",
       "      <th>date_added</th>\n",
       "      <th>release_year</th>\n",
       "      <th>rating</th>\n",
       "      <th>duration</th>\n",
       "      <th>listed_in</th>\n",
       "      <th>description</th>\n",
       "    </tr>\n",
       "  </thead>\n",
       "  <tbody>\n",
       "    <tr>\n",
       "      <th>0</th>\n",
       "      <td>s1</td>\n",
       "      <td>Movie</td>\n",
       "      <td>Dick Johnson Is Dead</td>\n",
       "      <td>Kirsten Johnson</td>\n",
       "      <td>NaN</td>\n",
       "      <td>United States</td>\n",
       "      <td>September 25, 2021</td>\n",
       "      <td>2020</td>\n",
       "      <td>PG-13</td>\n",
       "      <td>90 min</td>\n",
       "      <td>Documentaries</td>\n",
       "      <td>As her father nears the end of his life, filmm...</td>\n",
       "    </tr>\n",
       "    <tr>\n",
       "      <th>1</th>\n",
       "      <td>s2</td>\n",
       "      <td>TV Show</td>\n",
       "      <td>Blood &amp; Water</td>\n",
       "      <td>NaN</td>\n",
       "      <td>Ama Qamata, Khosi Ngema, Gail Mabalane, Thaban...</td>\n",
       "      <td>South Africa</td>\n",
       "      <td>September 24, 2021</td>\n",
       "      <td>2021</td>\n",
       "      <td>TV-MA</td>\n",
       "      <td>2 Seasons</td>\n",
       "      <td>International TV Shows, TV Dramas, TV Mysteries</td>\n",
       "      <td>After crossing paths at a party, a Cape Town t...</td>\n",
       "    </tr>\n",
       "    <tr>\n",
       "      <th>2</th>\n",
       "      <td>s3</td>\n",
       "      <td>TV Show</td>\n",
       "      <td>Ganglands</td>\n",
       "      <td>Julien Leclercq</td>\n",
       "      <td>Sami Bouajila, Tracy Gotoas, Samuel Jouy, Nabi...</td>\n",
       "      <td>NaN</td>\n",
       "      <td>September 24, 2021</td>\n",
       "      <td>2021</td>\n",
       "      <td>TV-MA</td>\n",
       "      <td>1 Season</td>\n",
       "      <td>Crime TV Shows, International TV Shows, TV Act...</td>\n",
       "      <td>To protect his family from a powerful drug lor...</td>\n",
       "    </tr>\n",
       "    <tr>\n",
       "      <th>3</th>\n",
       "      <td>s4</td>\n",
       "      <td>TV Show</td>\n",
       "      <td>Jailbirds New Orleans</td>\n",
       "      <td>NaN</td>\n",
       "      <td>NaN</td>\n",
       "      <td>NaN</td>\n",
       "      <td>September 24, 2021</td>\n",
       "      <td>2021</td>\n",
       "      <td>TV-MA</td>\n",
       "      <td>1 Season</td>\n",
       "      <td>Docuseries, Reality TV</td>\n",
       "      <td>Feuds, flirtations and toilet talk go down amo...</td>\n",
       "    </tr>\n",
       "    <tr>\n",
       "      <th>4</th>\n",
       "      <td>s5</td>\n",
       "      <td>TV Show</td>\n",
       "      <td>Kota Factory</td>\n",
       "      <td>NaN</td>\n",
       "      <td>Mayur More, Jitendra Kumar, Ranjan Raj, Alam K...</td>\n",
       "      <td>India</td>\n",
       "      <td>September 24, 2021</td>\n",
       "      <td>2021</td>\n",
       "      <td>TV-MA</td>\n",
       "      <td>2 Seasons</td>\n",
       "      <td>International TV Shows, Romantic TV Shows, TV ...</td>\n",
       "      <td>In a city of coaching centers known to train I...</td>\n",
       "    </tr>\n",
       "  </tbody>\n",
       "</table>\n",
       "</div>"
      ],
      "text/plain": [
       "  show_id     type                  title         director  \\\n",
       "0      s1    Movie   Dick Johnson Is Dead  Kirsten Johnson   \n",
       "1      s2  TV Show          Blood & Water              NaN   \n",
       "2      s3  TV Show              Ganglands  Julien Leclercq   \n",
       "3      s4  TV Show  Jailbirds New Orleans              NaN   \n",
       "4      s5  TV Show           Kota Factory              NaN   \n",
       "\n",
       "                                                cast        country  \\\n",
       "0                                                NaN  United States   \n",
       "1  Ama Qamata, Khosi Ngema, Gail Mabalane, Thaban...   South Africa   \n",
       "2  Sami Bouajila, Tracy Gotoas, Samuel Jouy, Nabi...            NaN   \n",
       "3                                                NaN            NaN   \n",
       "4  Mayur More, Jitendra Kumar, Ranjan Raj, Alam K...          India   \n",
       "\n",
       "           date_added  release_year rating   duration  \\\n",
       "0  September 25, 2021          2020  PG-13     90 min   \n",
       "1  September 24, 2021          2021  TV-MA  2 Seasons   \n",
       "2  September 24, 2021          2021  TV-MA   1 Season   \n",
       "3  September 24, 2021          2021  TV-MA   1 Season   \n",
       "4  September 24, 2021          2021  TV-MA  2 Seasons   \n",
       "\n",
       "                                           listed_in  \\\n",
       "0                                      Documentaries   \n",
       "1    International TV Shows, TV Dramas, TV Mysteries   \n",
       "2  Crime TV Shows, International TV Shows, TV Act...   \n",
       "3                             Docuseries, Reality TV   \n",
       "4  International TV Shows, Romantic TV Shows, TV ...   \n",
       "\n",
       "                                         description  \n",
       "0  As her father nears the end of his life, filmm...  \n",
       "1  After crossing paths at a party, a Cape Town t...  \n",
       "2  To protect his family from a powerful drug lor...  \n",
       "3  Feuds, flirtations and toilet talk go down amo...  \n",
       "4  In a city of coaching centers known to train I...  "
      ]
     },
     "execution_count": 3,
     "metadata": {},
     "output_type": "execute_result"
    }
   ],
   "source": [
    "# Analysing the head\n",
    "data.head(5)"
   ]
  },
  {
   "cell_type": "code",
   "execution_count": 4,
   "id": "bef126f5",
   "metadata": {},
   "outputs": [
    {
     "data": {
      "text/plain": [
       "(8807, 12)"
      ]
     },
     "execution_count": 4,
     "metadata": {},
     "output_type": "execute_result"
    }
   ],
   "source": [
    "data.shape"
   ]
  },
  {
   "cell_type": "markdown",
   "id": "fff2b2b9",
   "metadata": {},
   "source": [
    "***Observation*** : There are 8807 entries (rows) and 12 categories (columns)"
   ]
  },
  {
   "cell_type": "code",
   "execution_count": 5,
   "id": "daaba1e1",
   "metadata": {},
   "outputs": [
    {
     "name": "stdout",
     "output_type": "stream",
     "text": [
      "<class 'pandas.core.frame.DataFrame'>\n",
      "RangeIndex: 8807 entries, 0 to 8806\n",
      "Data columns (total 12 columns):\n",
      " #   Column        Non-Null Count  Dtype \n",
      "---  ------        --------------  ----- \n",
      " 0   show_id       8807 non-null   object\n",
      " 1   type          8807 non-null   object\n",
      " 2   title         8807 non-null   object\n",
      " 3   director      6173 non-null   object\n",
      " 4   cast          7982 non-null   object\n",
      " 5   country       7976 non-null   object\n",
      " 6   date_added    8797 non-null   object\n",
      " 7   release_year  8807 non-null   int64 \n",
      " 8   rating        8803 non-null   object\n",
      " 9   duration      8804 non-null   object\n",
      " 10  listed_in     8807 non-null   object\n",
      " 11  description   8807 non-null   object\n",
      "dtypes: int64(1), object(11)\n",
      "memory usage: 825.8+ KB\n"
     ]
    }
   ],
   "source": [
    "# Checking for null values if any\n",
    "data.info()"
   ]
  },
  {
   "cell_type": "code",
   "execution_count": 6,
   "id": "614359ba",
   "metadata": {},
   "outputs": [
    {
     "data": {
      "text/plain": [
       "show_id            0\n",
       "type               0\n",
       "title              0\n",
       "director        2634\n",
       "cast             825\n",
       "country          831\n",
       "date_added        10\n",
       "release_year       0\n",
       "rating             4\n",
       "duration           3\n",
       "listed_in          0\n",
       "description        0\n",
       "dtype: int64"
      ]
     },
     "execution_count": 6,
     "metadata": {},
     "output_type": "execute_result"
    }
   ],
   "source": [
    "# Number of null values in each columns\n",
    "data.isna().sum()"
   ]
  },
  {
   "cell_type": "code",
   "execution_count": 7,
   "id": "9d178764",
   "metadata": {},
   "outputs": [
    {
     "data": {
      "text/plain": [
       "show_id          0.00\n",
       "type             0.00\n",
       "title            0.00\n",
       "director        29.91\n",
       "cast             9.37\n",
       "country          9.44\n",
       "date_added       0.11\n",
       "release_year     0.00\n",
       "rating           0.05\n",
       "duration         0.03\n",
       "listed_in        0.00\n",
       "description      0.00\n",
       "dtype: float64"
      ]
     },
     "execution_count": 7,
     "metadata": {},
     "output_type": "execute_result"
    }
   ],
   "source": [
    "# Percentage of null values in the corresponding columns\n",
    "(((data.isna().sum())/len(data))*100).round(2)"
   ]
  },
  {
   "cell_type": "markdown",
   "id": "ab16912c",
   "metadata": {},
   "source": [
    "***Observation***\n",
    "- 29.9% of the data in ***director*** column are null\n",
    "- 9.37% of the data in ***cast*** column are null\n",
    "- 9.37% of the data in ***country*** column are null\n",
    "- 0.11% of the data in ***date_added*** column are null\n",
    "- 0.05% of the data in ***rating*** column are null\n",
    "- 0.03% of the data in ***duration*** column are null"
   ]
  },
  {
   "cell_type": "code",
   "execution_count": 8,
   "id": "420bb50f",
   "metadata": {},
   "outputs": [
    {
     "data": {
      "text/html": [
       "<div>\n",
       "<style scoped>\n",
       "    .dataframe tbody tr th:only-of-type {\n",
       "        vertical-align: middle;\n",
       "    }\n",
       "\n",
       "    .dataframe tbody tr th {\n",
       "        vertical-align: top;\n",
       "    }\n",
       "\n",
       "    .dataframe thead th {\n",
       "        text-align: right;\n",
       "    }\n",
       "</style>\n",
       "<table border=\"1\" class=\"dataframe\">\n",
       "  <thead>\n",
       "    <tr style=\"text-align: right;\">\n",
       "      <th></th>\n",
       "      <th>release_year</th>\n",
       "    </tr>\n",
       "  </thead>\n",
       "  <tbody>\n",
       "    <tr>\n",
       "      <th>count</th>\n",
       "      <td>8807.000000</td>\n",
       "    </tr>\n",
       "    <tr>\n",
       "      <th>mean</th>\n",
       "      <td>2014.180198</td>\n",
       "    </tr>\n",
       "    <tr>\n",
       "      <th>std</th>\n",
       "      <td>8.819312</td>\n",
       "    </tr>\n",
       "    <tr>\n",
       "      <th>min</th>\n",
       "      <td>1925.000000</td>\n",
       "    </tr>\n",
       "    <tr>\n",
       "      <th>25%</th>\n",
       "      <td>2013.000000</td>\n",
       "    </tr>\n",
       "    <tr>\n",
       "      <th>50%</th>\n",
       "      <td>2017.000000</td>\n",
       "    </tr>\n",
       "    <tr>\n",
       "      <th>75%</th>\n",
       "      <td>2019.000000</td>\n",
       "    </tr>\n",
       "    <tr>\n",
       "      <th>max</th>\n",
       "      <td>2021.000000</td>\n",
       "    </tr>\n",
       "  </tbody>\n",
       "</table>\n",
       "</div>"
      ],
      "text/plain": [
       "       release_year\n",
       "count   8807.000000\n",
       "mean    2014.180198\n",
       "std        8.819312\n",
       "min     1925.000000\n",
       "25%     2013.000000\n",
       "50%     2017.000000\n",
       "75%     2019.000000\n",
       "max     2021.000000"
      ]
     },
     "execution_count": 8,
     "metadata": {},
     "output_type": "execute_result"
    }
   ],
   "source": [
    "# Preliminary description of the data\n",
    "data.describe()"
   ]
  },
  {
   "cell_type": "markdown",
   "id": "c5ee1c23",
   "metadata": {},
   "source": [
    "### Data cleaning"
   ]
  },
  {
   "cell_type": "markdown",
   "id": "62a76c6e",
   "metadata": {},
   "source": [
    "#### 1. Column : Country"
   ]
  },
  {
   "cell_type": "code",
   "execution_count": 9,
   "id": "1d94e712",
   "metadata": {},
   "outputs": [
    {
     "data": {
      "text/plain": [
       "831"
      ]
     },
     "execution_count": 9,
     "metadata": {},
     "output_type": "execute_result"
    }
   ],
   "source": [
    "data['country'].isnull().sum()"
   ]
  },
  {
   "cell_type": "markdown",
   "id": "a5d64879",
   "metadata": {},
   "source": [
    "- 9.37% (831 entries) of the data in ***country*** column are null"
   ]
  },
  {
   "cell_type": "markdown",
   "id": "8e030ab3",
   "metadata": {},
   "source": [
    "#### Issue : Null values\n",
    "#### Approach : Replacing the null values with mode of the column"
   ]
  },
  {
   "cell_type": "code",
   "execution_count": 10,
   "id": "806455b5",
   "metadata": {},
   "outputs": [
    {
     "data": {
      "text/plain": [
       "United States     2818\n",
       "India              972\n",
       "United Kingdom     419\n",
       "Japan              245\n",
       "South Korea        199\n",
       "Canada             181\n",
       "Spain              145\n",
       "France             124\n",
       "Mexico             110\n",
       "Egypt              106\n",
       "Name: country, dtype: int64"
      ]
     },
     "execution_count": 10,
     "metadata": {},
     "output_type": "execute_result"
    }
   ],
   "source": [
    "data[\"country\"].value_counts().head(10)"
   ]
  },
  {
   "cell_type": "code",
   "execution_count": 11,
   "id": "aed967f5",
   "metadata": {},
   "outputs": [
    {
     "data": {
      "text/plain": [
       "'United States'"
      ]
     },
     "execution_count": 11,
     "metadata": {},
     "output_type": "execute_result"
    }
   ],
   "source": [
    "data[\"country\"].mode()[0]"
   ]
  },
  {
   "cell_type": "markdown",
   "id": "1702752d",
   "metadata": {},
   "source": [
    "***United States*** is the mode of the data\n"
   ]
  },
  {
   "cell_type": "code",
   "execution_count": 12,
   "id": "488612d3",
   "metadata": {},
   "outputs": [],
   "source": [
    "data[\"country\"]=data[\"country\"].fillna(data[\"country\"].mode()[0])"
   ]
  },
  {
   "cell_type": "code",
   "execution_count": 13,
   "id": "4bbdd4b0",
   "metadata": {},
   "outputs": [
    {
     "data": {
      "text/plain": [
       "False"
      ]
     },
     "execution_count": 13,
     "metadata": {},
     "output_type": "execute_result"
    }
   ],
   "source": [
    "np.all(data[\"country\"].isnull())"
   ]
  },
  {
   "cell_type": "markdown",
   "id": "47be32d6",
   "metadata": {},
   "source": [
    "The column country is free of null values"
   ]
  },
  {
   "cell_type": "markdown",
   "id": "f3073152",
   "metadata": {},
   "source": [
    "#### 2. Column : date_added"
   ]
  },
  {
   "cell_type": "markdown",
   "id": "18057066",
   "metadata": {},
   "source": [
    "#### Issue\n",
    "- 1. Changing the Data type of the column \n",
    "- 2. Removing the Null values"
   ]
  },
  {
   "cell_type": "code",
   "execution_count": 14,
   "id": "37a0fcda",
   "metadata": {},
   "outputs": [],
   "source": [
    "data['date_added'] = pd.to_datetime(data['date_added']) #Changing the data"
   ]
  },
  {
   "cell_type": "code",
   "execution_count": 15,
   "id": "9a6e2030",
   "metadata": {},
   "outputs": [
    {
     "data": {
      "text/plain": [
       "dtype('<M8[ns]')"
      ]
     },
     "execution_count": 15,
     "metadata": {},
     "output_type": "execute_result"
    }
   ],
   "source": [
    "data[\"date_added\"].dtypes"
   ]
  },
  {
   "cell_type": "code",
   "execution_count": 16,
   "id": "ed4e7c8c",
   "metadata": {},
   "outputs": [
    {
     "data": {
      "text/plain": [
       "10"
      ]
     },
     "execution_count": 16,
     "metadata": {},
     "output_type": "execute_result"
    }
   ],
   "source": [
    "data['date_added'].isnull().sum()"
   ]
  },
  {
   "cell_type": "markdown",
   "id": "b0bfdb7a",
   "metadata": {},
   "source": [
    "- 0.11% (10 entries) of the data in ***date_added*** column are null"
   ]
  },
  {
   "cell_type": "markdown",
   "id": "c0e8c29e",
   "metadata": {},
   "source": [
    "#### Approach : Replacing the null values with mode of the column"
   ]
  },
  {
   "cell_type": "code",
   "execution_count": 17,
   "id": "ab00ece7",
   "metadata": {},
   "outputs": [
    {
     "data": {
      "text/plain": [
       "Timestamp('2020-01-01 00:00:00')"
      ]
     },
     "execution_count": 17,
     "metadata": {},
     "output_type": "execute_result"
    }
   ],
   "source": [
    "data['date_added'].mode()[0]"
   ]
  },
  {
   "cell_type": "code",
   "execution_count": 18,
   "id": "54eaa4f9",
   "metadata": {},
   "outputs": [],
   "source": [
    "data['date_added'] = data['date_added'].fillna(data['date_added'].mode()[0])"
   ]
  },
  {
   "cell_type": "code",
   "execution_count": 19,
   "id": "85e6b2f5",
   "metadata": {},
   "outputs": [
    {
     "data": {
      "text/plain": [
       "False"
      ]
     },
     "execution_count": 19,
     "metadata": {},
     "output_type": "execute_result"
    }
   ],
   "source": [
    "np.all(data[\"date_added\"].isnull())"
   ]
  },
  {
   "cell_type": "markdown",
   "id": "72a509fb",
   "metadata": {},
   "source": [
    "#### 3. Column : cast"
   ]
  },
  {
   "cell_type": "code",
   "execution_count": 20,
   "id": "afef0185",
   "metadata": {},
   "outputs": [
    {
     "data": {
      "text/plain": [
       "825"
      ]
     },
     "execution_count": 20,
     "metadata": {},
     "output_type": "execute_result"
    }
   ],
   "source": [
    "data[\"cast\"].isnull().sum()"
   ]
  },
  {
   "cell_type": "markdown",
   "id": "0e13809b",
   "metadata": {},
   "source": [
    "- 9.37% (825 entries) of the data in ***cast*** column are null"
   ]
  },
  {
   "cell_type": "markdown",
   "id": "a6ae8adc",
   "metadata": {},
   "source": [
    "Instead of populating the null values in the cast column with mode, we can replace the null values with **\"Others\"**"
   ]
  },
  {
   "cell_type": "code",
   "execution_count": 21,
   "id": "81625903",
   "metadata": {},
   "outputs": [],
   "source": [
    "data['cast'].replace(np.nan,'Others',inplace =True)"
   ]
  },
  {
   "cell_type": "code",
   "execution_count": 22,
   "id": "4f8a3ab2",
   "metadata": {},
   "outputs": [
    {
     "data": {
      "text/plain": [
       "0"
      ]
     },
     "execution_count": 22,
     "metadata": {},
     "output_type": "execute_result"
    }
   ],
   "source": [
    "data[\"cast\"].isnull().sum()"
   ]
  },
  {
   "cell_type": "markdown",
   "id": "6f2f8d95",
   "metadata": {},
   "source": [
    "#### 4. Column : rating"
   ]
  },
  {
   "cell_type": "code",
   "execution_count": 23,
   "id": "1a4e2c08",
   "metadata": {},
   "outputs": [
    {
     "data": {
      "text/plain": [
       "TV-MA       3207\n",
       "TV-14       2160\n",
       "TV-PG        863\n",
       "R            799\n",
       "PG-13        490\n",
       "TV-Y7        334\n",
       "TV-Y         307\n",
       "PG           287\n",
       "TV-G         220\n",
       "NR            80\n",
       "G             41\n",
       "TV-Y7-FV       6\n",
       "NC-17          3\n",
       "UR             3\n",
       "74 min         1\n",
       "84 min         1\n",
       "66 min         1\n",
       "Name: rating, dtype: int64"
      ]
     },
     "execution_count": 23,
     "metadata": {},
     "output_type": "execute_result"
    }
   ],
   "source": [
    "data[\"rating\"].value_counts()"
   ]
  },
  {
   "cell_type": "markdown",
   "id": "83e4e6ec",
   "metadata": {},
   "source": [
    "#### Quick description of movie rating in United States \n",
    "###### - TV shows\n",
    " - TV-MA : Mature audience only\n",
    " - TV-14 : Parents strongly cautioned\n",
    " - TV-PG : Parental guidance suggested\n",
    " - TV-Y7 : Directed to Older Children\n",
    " - TV-Y  : All Children\n",
    " - TV-G  : General Audience\n",
    " - TV-Y7-FV : Fantasy violence\n",
    " \n",
    "###### - Movies\n",
    " - R     : Restricted – Under 17\n",
    " - PG-13 : Parents Strongly Cautioned\n",
    " - PG    : Parental Guidance Suggested\n",
    " - NR    : Not Rated\n",
    " - G     : General Audiences\n",
    " - NC-17 : Adutls only\n",
    " - UR    : Unrated\n"
   ]
  },
  {
   "cell_type": "code",
   "execution_count": 24,
   "id": "c6a5552d",
   "metadata": {},
   "outputs": [
    {
     "data": {
      "text/plain": [
       "4"
      ]
     },
     "execution_count": 24,
     "metadata": {},
     "output_type": "execute_result"
    }
   ],
   "source": [
    "data[\"rating\"].isnull().sum()"
   ]
  },
  {
   "cell_type": "markdown",
   "id": "7c561340",
   "metadata": {},
   "source": [
    "- 0.05% (4 entries) of the data in ***rating*** column are null"
   ]
  },
  {
   "cell_type": "code",
   "execution_count": 25,
   "id": "9fd8b9a8",
   "metadata": {},
   "outputs": [
    {
     "data": {
      "text/plain": [
       "'TV-MA'"
      ]
     },
     "execution_count": 25,
     "metadata": {},
     "output_type": "execute_result"
    }
   ],
   "source": [
    "data[\"rating\"].mode()[0]"
   ]
  },
  {
   "cell_type": "code",
   "execution_count": 26,
   "id": "e38a0f26",
   "metadata": {},
   "outputs": [],
   "source": [
    "data[\"rating\"]=data[\"rating\"].fillna(data[\"rating\"].mode()[0])"
   ]
  },
  {
   "cell_type": "code",
   "execution_count": 27,
   "id": "6651662f",
   "metadata": {},
   "outputs": [
    {
     "data": {
      "text/plain": [
       "0"
      ]
     },
     "execution_count": 27,
     "metadata": {},
     "output_type": "execute_result"
    }
   ],
   "source": [
    "data[\"rating\"].isnull().sum()"
   ]
  },
  {
   "cell_type": "markdown",
   "id": "507bfdd7",
   "metadata": {},
   "source": [
    "#### 5. Column : duration"
   ]
  },
  {
   "cell_type": "code",
   "execution_count": 28,
   "id": "6ade01ab",
   "metadata": {},
   "outputs": [
    {
     "data": {
      "text/plain": [
       "1 Season     1793\n",
       "2 Seasons     425\n",
       "3 Seasons     199\n",
       "90 min        152\n",
       "94 min        146\n",
       "             ... \n",
       "16 min          1\n",
       "186 min         1\n",
       "193 min         1\n",
       "189 min         1\n",
       "191 min         1\n",
       "Name: duration, Length: 220, dtype: int64"
      ]
     },
     "execution_count": 28,
     "metadata": {},
     "output_type": "execute_result"
    }
   ],
   "source": [
    "data[\"duration\"].value_counts()"
   ]
  },
  {
   "cell_type": "markdown",
   "id": "66fb0f4d",
   "metadata": {},
   "source": [
    "***Obeservation***\n",
    "- Column duration has mixed values as it accounts for the duration of TV shows in \"seasons\" and Movies in \"mins\".\n",
    "- To replace the null values, first the rows containing TV shows and movies have to identified individually"
   ]
  },
  {
   "cell_type": "code",
   "execution_count": 29,
   "id": "c96ffc1a",
   "metadata": {},
   "outputs": [],
   "source": [
    "movies = data[data['type'] == 'Movie' ]\n",
    "series = data[data['type'] == 'TV Show']"
   ]
  },
  {
   "cell_type": "code",
   "execution_count": 30,
   "id": "9ec8a1a3",
   "metadata": {},
   "outputs": [
    {
     "data": {
      "text/plain": [
       "3"
      ]
     },
     "execution_count": 30,
     "metadata": {},
     "output_type": "execute_result"
    }
   ],
   "source": [
    "movies[\"duration\"].isnull().sum()"
   ]
  },
  {
   "cell_type": "code",
   "execution_count": 31,
   "id": "0708f6f4",
   "metadata": {},
   "outputs": [
    {
     "data": {
      "text/plain": [
       "0"
      ]
     },
     "execution_count": 31,
     "metadata": {},
     "output_type": "execute_result"
    }
   ],
   "source": [
    "series[\"duration\"].isnull().sum()"
   ]
  },
  {
   "cell_type": "markdown",
   "id": "a88cb482",
   "metadata": {},
   "source": [
    "***Observation***\n",
    "- It is observed that only the Movies have null values and TV shows do not\n",
    "- Hence it would be meaningful to replace the null values of column duration with the mode of movie duration"
   ]
  },
  {
   "cell_type": "code",
   "execution_count": 32,
   "id": "bd7b4b7a",
   "metadata": {},
   "outputs": [
    {
     "data": {
      "text/plain": [
       "'90 min'"
      ]
     },
     "execution_count": 32,
     "metadata": {},
     "output_type": "execute_result"
    }
   ],
   "source": [
    "movies[\"duration\"].mode()[0]"
   ]
  },
  {
   "cell_type": "code",
   "execution_count": 33,
   "id": "43b0fd44",
   "metadata": {},
   "outputs": [],
   "source": [
    "data[\"duration\"]=data[\"duration\"].fillna(movies[\"duration\"].mode()[0])"
   ]
  },
  {
   "cell_type": "code",
   "execution_count": 34,
   "id": "58a1b022",
   "metadata": {},
   "outputs": [
    {
     "data": {
      "text/plain": [
       "False"
      ]
     },
     "execution_count": 34,
     "metadata": {},
     "output_type": "execute_result"
    }
   ],
   "source": [
    "np.all(data[\"duration\"].isnull())"
   ]
  },
  {
   "cell_type": "markdown",
   "id": "bf54519f",
   "metadata": {},
   "source": [
    "#### 6. Column : director"
   ]
  },
  {
   "cell_type": "code",
   "execution_count": 35,
   "id": "228d9765",
   "metadata": {},
   "outputs": [
    {
     "data": {
      "text/plain": [
       "2634"
      ]
     },
     "execution_count": 35,
     "metadata": {},
     "output_type": "execute_result"
    }
   ],
   "source": [
    "data[\"director\"].isnull().sum()"
   ]
  },
  {
   "cell_type": "markdown",
   "id": "e5c31f4d",
   "metadata": {},
   "source": [
    "- 29.9% (2634 entries) of the data in ***director*** column are null"
   ]
  },
  {
   "cell_type": "markdown",
   "id": "a3e86687",
   "metadata": {},
   "source": [
    "- Instead of replacing the null values with mode, we can replace the it with \"Others\""
   ]
  },
  {
   "cell_type": "code",
   "execution_count": 36,
   "id": "19e6d9f8",
   "metadata": {},
   "outputs": [
    {
     "data": {
      "text/plain": [
       "Rajiv Chilaka                     19\n",
       "Raúl Campos, Jan Suter            18\n",
       "Marcus Raboy                      16\n",
       "Suhas Kadav                       16\n",
       "Jay Karas                         14\n",
       "                                  ..\n",
       "Raymie Muzquiz, Stu Livingston     1\n",
       "Joe Menendez                       1\n",
       "Eric Bross                         1\n",
       "Will Eisenberg                     1\n",
       "Mozez Singh                        1\n",
       "Name: director, Length: 4528, dtype: int64"
      ]
     },
     "execution_count": 36,
     "metadata": {},
     "output_type": "execute_result"
    }
   ],
   "source": [
    "data[\"director\"].value_counts()"
   ]
  },
  {
   "cell_type": "code",
   "execution_count": 37,
   "id": "a10a0204",
   "metadata": {},
   "outputs": [],
   "source": [
    "data[\"director\"].replace(np.nan,\"Others\",inplace=True)"
   ]
  },
  {
   "cell_type": "code",
   "execution_count": 38,
   "id": "31b6dfa7",
   "metadata": {},
   "outputs": [
    {
     "data": {
      "text/plain": [
       "0"
      ]
     },
     "execution_count": 38,
     "metadata": {},
     "output_type": "execute_result"
    }
   ],
   "source": [
    "data[\"director\"].isnull().sum()"
   ]
  },
  {
   "cell_type": "markdown",
   "id": "6137416c",
   "metadata": {},
   "source": [
    "#### Now all the null values of the dataset have been managed"
   ]
  },
  {
   "cell_type": "code",
   "execution_count": 39,
   "id": "d2c02d28",
   "metadata": {},
   "outputs": [
    {
     "data": {
      "text/plain": [
       "show_id         0\n",
       "type            0\n",
       "title           0\n",
       "director        0\n",
       "cast            0\n",
       "country         0\n",
       "date_added      0\n",
       "release_year    0\n",
       "rating          0\n",
       "duration        0\n",
       "listed_in       0\n",
       "description     0\n",
       "dtype: int64"
      ]
     },
     "execution_count": 39,
     "metadata": {},
     "output_type": "execute_result"
    }
   ],
   "source": [
    "data.isna().sum()"
   ]
  },
  {
   "cell_type": "code",
   "execution_count": 40,
   "id": "1631ee0f",
   "metadata": {},
   "outputs": [],
   "source": [
    "data_copy = data.copy()"
   ]
  },
  {
   "cell_type": "code",
   "execution_count": 41,
   "id": "214d4fff",
   "metadata": {},
   "outputs": [],
   "source": [
    "data['month'] = data_copy['date_added'].dt.month_name()\n",
    "data['added_year'] = data_copy['date_added'].dt.year"
   ]
  },
  {
   "cell_type": "markdown",
   "id": "170fb17d",
   "metadata": {},
   "source": [
    "## Unnesting the data"
   ]
  },
  {
   "cell_type": "markdown",
   "id": "766ff018",
   "metadata": {},
   "source": [
    "#### Column : cast"
   ]
  },
  {
   "cell_type": "code",
   "execution_count": 42,
   "id": "f67e66e4",
   "metadata": {},
   "outputs": [
    {
     "data": {
      "text/plain": [
       "0                                                  Others\n",
       "1       Ama Qamata, Khosi Ngema, Gail Mabalane, Thaban...\n",
       "2       Sami Bouajila, Tracy Gotoas, Samuel Jouy, Nabi...\n",
       "3                                                  Others\n",
       "4       Mayur More, Jitendra Kumar, Ranjan Raj, Alam K...\n",
       "                              ...                        \n",
       "8802    Mark Ruffalo, Jake Gyllenhaal, Robert Downey J...\n",
       "8803                                               Others\n",
       "8804    Jesse Eisenberg, Woody Harrelson, Emma Stone, ...\n",
       "8805    Tim Allen, Courteney Cox, Chevy Chase, Kate Ma...\n",
       "8806    Vicky Kaushal, Sarah-Jane Dias, Raaghav Chanan...\n",
       "Name: cast, Length: 8807, dtype: object"
      ]
     },
     "execution_count": 42,
     "metadata": {},
     "output_type": "execute_result"
    }
   ],
   "source": [
    "data[\"cast\"]"
   ]
  },
  {
   "cell_type": "code",
   "execution_count": 43,
   "id": "78bd4659",
   "metadata": {},
   "outputs": [],
   "source": [
    "cast= data[\"cast\"].apply(lambda x: str(x).split(\", \")).tolist()"
   ]
  },
  {
   "cell_type": "code",
   "execution_count": 44,
   "id": "1e265502",
   "metadata": {},
   "outputs": [
    {
     "data": {
      "text/plain": [
       "[['Others'],\n",
       " ['Ama Qamata',\n",
       "  'Khosi Ngema',\n",
       "  'Gail Mabalane',\n",
       "  'Thabang Molaba',\n",
       "  'Dillon Windvogel',\n",
       "  'Natasha Thahane',\n",
       "  'Arno Greeff',\n",
       "  'Xolile Tshabalala',\n",
       "  'Getmore Sithole',\n",
       "  'Cindy Mahlangu',\n",
       "  'Ryle De Morny',\n",
       "  'Greteli Fincham',\n",
       "  'Sello Maake Ka-Ncube',\n",
       "  'Odwa Gwanya',\n",
       "  'Mekaila Mathys',\n",
       "  'Sandi Schultz',\n",
       "  'Duane Williams',\n",
       "  'Shamilla Miller',\n",
       "  'Patrick Mofokeng'],\n",
       " ['Sami Bouajila',\n",
       "  'Tracy Gotoas',\n",
       "  'Samuel Jouy',\n",
       "  'Nabiha Akkari',\n",
       "  'Sofia Lesaffre',\n",
       "  'Salim Kechiouche',\n",
       "  'Noureddine Farihi',\n",
       "  'Geert Van Rampelberg',\n",
       "  'Bakary Diombera'],\n",
       " ['Others'],\n",
       " ['Mayur More',\n",
       "  'Jitendra Kumar',\n",
       "  'Ranjan Raj',\n",
       "  'Alam Khan',\n",
       "  'Ahsaas Channa',\n",
       "  'Revathi Pillai',\n",
       "  'Urvi Singh',\n",
       "  'Arun Kumar']]"
      ]
     },
     "execution_count": 44,
     "metadata": {},
     "output_type": "execute_result"
    }
   ],
   "source": [
    "cast[:5]"
   ]
  },
  {
   "cell_type": "code",
   "execution_count": 45,
   "id": "b81faa2d",
   "metadata": {},
   "outputs": [],
   "source": [
    "data_cast=pd.DataFrame(cast,index=data[\"title\"])"
   ]
  },
  {
   "cell_type": "code",
   "execution_count": 46,
   "id": "b3bf13f0",
   "metadata": {},
   "outputs": [
    {
     "data": {
      "text/html": [
       "<div>\n",
       "<style scoped>\n",
       "    .dataframe tbody tr th:only-of-type {\n",
       "        vertical-align: middle;\n",
       "    }\n",
       "\n",
       "    .dataframe tbody tr th {\n",
       "        vertical-align: top;\n",
       "    }\n",
       "\n",
       "    .dataframe thead th {\n",
       "        text-align: right;\n",
       "    }\n",
       "</style>\n",
       "<table border=\"1\" class=\"dataframe\">\n",
       "  <thead>\n",
       "    <tr style=\"text-align: right;\">\n",
       "      <th></th>\n",
       "      <th>0</th>\n",
       "      <th>1</th>\n",
       "      <th>2</th>\n",
       "      <th>3</th>\n",
       "      <th>4</th>\n",
       "      <th>5</th>\n",
       "      <th>6</th>\n",
       "      <th>7</th>\n",
       "      <th>8</th>\n",
       "      <th>9</th>\n",
       "      <th>...</th>\n",
       "      <th>40</th>\n",
       "      <th>41</th>\n",
       "      <th>42</th>\n",
       "      <th>43</th>\n",
       "      <th>44</th>\n",
       "      <th>45</th>\n",
       "      <th>46</th>\n",
       "      <th>47</th>\n",
       "      <th>48</th>\n",
       "      <th>49</th>\n",
       "    </tr>\n",
       "    <tr>\n",
       "      <th>title</th>\n",
       "      <th></th>\n",
       "      <th></th>\n",
       "      <th></th>\n",
       "      <th></th>\n",
       "      <th></th>\n",
       "      <th></th>\n",
       "      <th></th>\n",
       "      <th></th>\n",
       "      <th></th>\n",
       "      <th></th>\n",
       "      <th></th>\n",
       "      <th></th>\n",
       "      <th></th>\n",
       "      <th></th>\n",
       "      <th></th>\n",
       "      <th></th>\n",
       "      <th></th>\n",
       "      <th></th>\n",
       "      <th></th>\n",
       "      <th></th>\n",
       "      <th></th>\n",
       "    </tr>\n",
       "  </thead>\n",
       "  <tbody>\n",
       "    <tr>\n",
       "      <th>Dick Johnson Is Dead</th>\n",
       "      <td>Others</td>\n",
       "      <td>None</td>\n",
       "      <td>None</td>\n",
       "      <td>None</td>\n",
       "      <td>None</td>\n",
       "      <td>None</td>\n",
       "      <td>None</td>\n",
       "      <td>None</td>\n",
       "      <td>None</td>\n",
       "      <td>None</td>\n",
       "      <td>...</td>\n",
       "      <td>None</td>\n",
       "      <td>None</td>\n",
       "      <td>None</td>\n",
       "      <td>None</td>\n",
       "      <td>None</td>\n",
       "      <td>None</td>\n",
       "      <td>None</td>\n",
       "      <td>None</td>\n",
       "      <td>None</td>\n",
       "      <td>None</td>\n",
       "    </tr>\n",
       "    <tr>\n",
       "      <th>Blood &amp; Water</th>\n",
       "      <td>Ama Qamata</td>\n",
       "      <td>Khosi Ngema</td>\n",
       "      <td>Gail Mabalane</td>\n",
       "      <td>Thabang Molaba</td>\n",
       "      <td>Dillon Windvogel</td>\n",
       "      <td>Natasha Thahane</td>\n",
       "      <td>Arno Greeff</td>\n",
       "      <td>Xolile Tshabalala</td>\n",
       "      <td>Getmore Sithole</td>\n",
       "      <td>Cindy Mahlangu</td>\n",
       "      <td>...</td>\n",
       "      <td>None</td>\n",
       "      <td>None</td>\n",
       "      <td>None</td>\n",
       "      <td>None</td>\n",
       "      <td>None</td>\n",
       "      <td>None</td>\n",
       "      <td>None</td>\n",
       "      <td>None</td>\n",
       "      <td>None</td>\n",
       "      <td>None</td>\n",
       "    </tr>\n",
       "    <tr>\n",
       "      <th>Ganglands</th>\n",
       "      <td>Sami Bouajila</td>\n",
       "      <td>Tracy Gotoas</td>\n",
       "      <td>Samuel Jouy</td>\n",
       "      <td>Nabiha Akkari</td>\n",
       "      <td>Sofia Lesaffre</td>\n",
       "      <td>Salim Kechiouche</td>\n",
       "      <td>Noureddine Farihi</td>\n",
       "      <td>Geert Van Rampelberg</td>\n",
       "      <td>Bakary Diombera</td>\n",
       "      <td>None</td>\n",
       "      <td>...</td>\n",
       "      <td>None</td>\n",
       "      <td>None</td>\n",
       "      <td>None</td>\n",
       "      <td>None</td>\n",
       "      <td>None</td>\n",
       "      <td>None</td>\n",
       "      <td>None</td>\n",
       "      <td>None</td>\n",
       "      <td>None</td>\n",
       "      <td>None</td>\n",
       "    </tr>\n",
       "    <tr>\n",
       "      <th>Jailbirds New Orleans</th>\n",
       "      <td>Others</td>\n",
       "      <td>None</td>\n",
       "      <td>None</td>\n",
       "      <td>None</td>\n",
       "      <td>None</td>\n",
       "      <td>None</td>\n",
       "      <td>None</td>\n",
       "      <td>None</td>\n",
       "      <td>None</td>\n",
       "      <td>None</td>\n",
       "      <td>...</td>\n",
       "      <td>None</td>\n",
       "      <td>None</td>\n",
       "      <td>None</td>\n",
       "      <td>None</td>\n",
       "      <td>None</td>\n",
       "      <td>None</td>\n",
       "      <td>None</td>\n",
       "      <td>None</td>\n",
       "      <td>None</td>\n",
       "      <td>None</td>\n",
       "    </tr>\n",
       "    <tr>\n",
       "      <th>Kota Factory</th>\n",
       "      <td>Mayur More</td>\n",
       "      <td>Jitendra Kumar</td>\n",
       "      <td>Ranjan Raj</td>\n",
       "      <td>Alam Khan</td>\n",
       "      <td>Ahsaas Channa</td>\n",
       "      <td>Revathi Pillai</td>\n",
       "      <td>Urvi Singh</td>\n",
       "      <td>Arun Kumar</td>\n",
       "      <td>None</td>\n",
       "      <td>None</td>\n",
       "      <td>...</td>\n",
       "      <td>None</td>\n",
       "      <td>None</td>\n",
       "      <td>None</td>\n",
       "      <td>None</td>\n",
       "      <td>None</td>\n",
       "      <td>None</td>\n",
       "      <td>None</td>\n",
       "      <td>None</td>\n",
       "      <td>None</td>\n",
       "      <td>None</td>\n",
       "    </tr>\n",
       "    <tr>\n",
       "      <th>Midnight Mass</th>\n",
       "      <td>Kate Siegel</td>\n",
       "      <td>Zach Gilford</td>\n",
       "      <td>Hamish Linklater</td>\n",
       "      <td>Henry Thomas</td>\n",
       "      <td>Kristin Lehman</td>\n",
       "      <td>Samantha Sloyan</td>\n",
       "      <td>Igby Rigney</td>\n",
       "      <td>Rahul Kohli</td>\n",
       "      <td>Annarah Cymone</td>\n",
       "      <td>Annabeth Gish</td>\n",
       "      <td>...</td>\n",
       "      <td>None</td>\n",
       "      <td>None</td>\n",
       "      <td>None</td>\n",
       "      <td>None</td>\n",
       "      <td>None</td>\n",
       "      <td>None</td>\n",
       "      <td>None</td>\n",
       "      <td>None</td>\n",
       "      <td>None</td>\n",
       "      <td>None</td>\n",
       "    </tr>\n",
       "    <tr>\n",
       "      <th>My Little Pony: A New Generation</th>\n",
       "      <td>Vanessa Hudgens</td>\n",
       "      <td>Kimiko Glenn</td>\n",
       "      <td>James Marsden</td>\n",
       "      <td>Sofia Carson</td>\n",
       "      <td>Liza Koshy</td>\n",
       "      <td>Ken Jeong</td>\n",
       "      <td>Elizabeth Perkins</td>\n",
       "      <td>Jane Krakowski</td>\n",
       "      <td>Michael McKean</td>\n",
       "      <td>Phil LaMarr</td>\n",
       "      <td>...</td>\n",
       "      <td>None</td>\n",
       "      <td>None</td>\n",
       "      <td>None</td>\n",
       "      <td>None</td>\n",
       "      <td>None</td>\n",
       "      <td>None</td>\n",
       "      <td>None</td>\n",
       "      <td>None</td>\n",
       "      <td>None</td>\n",
       "      <td>None</td>\n",
       "    </tr>\n",
       "    <tr>\n",
       "      <th>Sankofa</th>\n",
       "      <td>Kofi Ghanaba</td>\n",
       "      <td>Oyafunmike Ogunlano</td>\n",
       "      <td>Alexandra Duah</td>\n",
       "      <td>Nick Medley</td>\n",
       "      <td>Mutabaruka</td>\n",
       "      <td>Afemo Omilami</td>\n",
       "      <td>Reggie Carter</td>\n",
       "      <td>Mzuri</td>\n",
       "      <td>None</td>\n",
       "      <td>None</td>\n",
       "      <td>...</td>\n",
       "      <td>None</td>\n",
       "      <td>None</td>\n",
       "      <td>None</td>\n",
       "      <td>None</td>\n",
       "      <td>None</td>\n",
       "      <td>None</td>\n",
       "      <td>None</td>\n",
       "      <td>None</td>\n",
       "      <td>None</td>\n",
       "      <td>None</td>\n",
       "    </tr>\n",
       "    <tr>\n",
       "      <th>The Great British Baking Show</th>\n",
       "      <td>Mel Giedroyc</td>\n",
       "      <td>Sue Perkins</td>\n",
       "      <td>Mary Berry</td>\n",
       "      <td>Paul Hollywood</td>\n",
       "      <td>None</td>\n",
       "      <td>None</td>\n",
       "      <td>None</td>\n",
       "      <td>None</td>\n",
       "      <td>None</td>\n",
       "      <td>None</td>\n",
       "      <td>...</td>\n",
       "      <td>None</td>\n",
       "      <td>None</td>\n",
       "      <td>None</td>\n",
       "      <td>None</td>\n",
       "      <td>None</td>\n",
       "      <td>None</td>\n",
       "      <td>None</td>\n",
       "      <td>None</td>\n",
       "      <td>None</td>\n",
       "      <td>None</td>\n",
       "    </tr>\n",
       "    <tr>\n",
       "      <th>The Starling</th>\n",
       "      <td>Melissa McCarthy</td>\n",
       "      <td>Chris O'Dowd</td>\n",
       "      <td>Kevin Kline</td>\n",
       "      <td>Timothy Olyphant</td>\n",
       "      <td>Daveed Diggs</td>\n",
       "      <td>Skyler Gisondo</td>\n",
       "      <td>Laura Harrier</td>\n",
       "      <td>Rosalind Chao</td>\n",
       "      <td>Kimberly Quinn</td>\n",
       "      <td>Loretta Devine</td>\n",
       "      <td>...</td>\n",
       "      <td>None</td>\n",
       "      <td>None</td>\n",
       "      <td>None</td>\n",
       "      <td>None</td>\n",
       "      <td>None</td>\n",
       "      <td>None</td>\n",
       "      <td>None</td>\n",
       "      <td>None</td>\n",
       "      <td>None</td>\n",
       "      <td>None</td>\n",
       "    </tr>\n",
       "  </tbody>\n",
       "</table>\n",
       "<p>10 rows × 50 columns</p>\n",
       "</div>"
      ],
      "text/plain": [
       "                                                0                    1   \\\n",
       "title                                                                     \n",
       "Dick Johnson Is Dead                        Others                 None   \n",
       "Blood & Water                           Ama Qamata          Khosi Ngema   \n",
       "Ganglands                            Sami Bouajila         Tracy Gotoas   \n",
       "Jailbirds New Orleans                       Others                 None   \n",
       "Kota Factory                            Mayur More       Jitendra Kumar   \n",
       "Midnight Mass                          Kate Siegel         Zach Gilford   \n",
       "My Little Pony: A New Generation   Vanessa Hudgens         Kimiko Glenn   \n",
       "Sankofa                               Kofi Ghanaba  Oyafunmike Ogunlano   \n",
       "The Great British Baking Show         Mel Giedroyc          Sue Perkins   \n",
       "The Starling                      Melissa McCarthy         Chris O'Dowd   \n",
       "\n",
       "                                                2                 3   \\\n",
       "title                                                                  \n",
       "Dick Johnson Is Dead                          None              None   \n",
       "Blood & Water                        Gail Mabalane    Thabang Molaba   \n",
       "Ganglands                              Samuel Jouy     Nabiha Akkari   \n",
       "Jailbirds New Orleans                         None              None   \n",
       "Kota Factory                            Ranjan Raj         Alam Khan   \n",
       "Midnight Mass                     Hamish Linklater      Henry Thomas   \n",
       "My Little Pony: A New Generation     James Marsden      Sofia Carson   \n",
       "Sankofa                             Alexandra Duah       Nick Medley   \n",
       "The Great British Baking Show           Mary Berry    Paul Hollywood   \n",
       "The Starling                           Kevin Kline  Timothy Olyphant   \n",
       "\n",
       "                                                4                 5   \\\n",
       "title                                                                  \n",
       "Dick Johnson Is Dead                          None              None   \n",
       "Blood & Water                     Dillon Windvogel   Natasha Thahane   \n",
       "Ganglands                           Sofia Lesaffre  Salim Kechiouche   \n",
       "Jailbirds New Orleans                         None              None   \n",
       "Kota Factory                         Ahsaas Channa    Revathi Pillai   \n",
       "Midnight Mass                       Kristin Lehman   Samantha Sloyan   \n",
       "My Little Pony: A New Generation        Liza Koshy         Ken Jeong   \n",
       "Sankofa                                 Mutabaruka     Afemo Omilami   \n",
       "The Great British Baking Show                 None              None   \n",
       "The Starling                          Daveed Diggs    Skyler Gisondo   \n",
       "\n",
       "                                                 6                     7   \\\n",
       "title                                                                       \n",
       "Dick Johnson Is Dead                           None                  None   \n",
       "Blood & Water                           Arno Greeff     Xolile Tshabalala   \n",
       "Ganglands                         Noureddine Farihi  Geert Van Rampelberg   \n",
       "Jailbirds New Orleans                          None                  None   \n",
       "Kota Factory                             Urvi Singh            Arun Kumar   \n",
       "Midnight Mass                           Igby Rigney           Rahul Kohli   \n",
       "My Little Pony: A New Generation  Elizabeth Perkins        Jane Krakowski   \n",
       "Sankofa                               Reggie Carter                 Mzuri   \n",
       "The Great British Baking Show                  None                  None   \n",
       "The Starling                          Laura Harrier         Rosalind Chao   \n",
       "\n",
       "                                               8               9   ...    40  \\\n",
       "title                                                              ...         \n",
       "Dick Johnson Is Dead                         None            None  ...  None   \n",
       "Blood & Water                     Getmore Sithole  Cindy Mahlangu  ...  None   \n",
       "Ganglands                         Bakary Diombera            None  ...  None   \n",
       "Jailbirds New Orleans                        None            None  ...  None   \n",
       "Kota Factory                                 None            None  ...  None   \n",
       "Midnight Mass                      Annarah Cymone   Annabeth Gish  ...  None   \n",
       "My Little Pony: A New Generation   Michael McKean     Phil LaMarr  ...  None   \n",
       "Sankofa                                      None            None  ...  None   \n",
       "The Great British Baking Show                None            None  ...  None   \n",
       "The Starling                       Kimberly Quinn  Loretta Devine  ...  None   \n",
       "\n",
       "                                    41    42    43    44    45    46    47  \\\n",
       "title                                                                        \n",
       "Dick Johnson Is Dead              None  None  None  None  None  None  None   \n",
       "Blood & Water                     None  None  None  None  None  None  None   \n",
       "Ganglands                         None  None  None  None  None  None  None   \n",
       "Jailbirds New Orleans             None  None  None  None  None  None  None   \n",
       "Kota Factory                      None  None  None  None  None  None  None   \n",
       "Midnight Mass                     None  None  None  None  None  None  None   \n",
       "My Little Pony: A New Generation  None  None  None  None  None  None  None   \n",
       "Sankofa                           None  None  None  None  None  None  None   \n",
       "The Great British Baking Show     None  None  None  None  None  None  None   \n",
       "The Starling                      None  None  None  None  None  None  None   \n",
       "\n",
       "                                    48    49  \n",
       "title                                         \n",
       "Dick Johnson Is Dead              None  None  \n",
       "Blood & Water                     None  None  \n",
       "Ganglands                         None  None  \n",
       "Jailbirds New Orleans             None  None  \n",
       "Kota Factory                      None  None  \n",
       "Midnight Mass                     None  None  \n",
       "My Little Pony: A New Generation  None  None  \n",
       "Sankofa                           None  None  \n",
       "The Great British Baking Show     None  None  \n",
       "The Starling                      None  None  \n",
       "\n",
       "[10 rows x 50 columns]"
      ]
     },
     "execution_count": 46,
     "metadata": {},
     "output_type": "execute_result"
    }
   ],
   "source": [
    "data_cast.head(10)"
   ]
  },
  {
   "cell_type": "code",
   "execution_count": 47,
   "id": "e8e0e4d7",
   "metadata": {},
   "outputs": [
    {
     "data": {
      "text/html": [
       "<div>\n",
       "<style scoped>\n",
       "    .dataframe tbody tr th:only-of-type {\n",
       "        vertical-align: middle;\n",
       "    }\n",
       "\n",
       "    .dataframe tbody tr th {\n",
       "        vertical-align: top;\n",
       "    }\n",
       "\n",
       "    .dataframe thead th {\n",
       "        text-align: right;\n",
       "    }\n",
       "</style>\n",
       "<table border=\"1\" class=\"dataframe\">\n",
       "  <thead>\n",
       "    <tr style=\"text-align: right;\">\n",
       "      <th></th>\n",
       "      <th>title</th>\n",
       "      <th>level_1</th>\n",
       "      <th>0</th>\n",
       "    </tr>\n",
       "  </thead>\n",
       "  <tbody>\n",
       "    <tr>\n",
       "      <th>0</th>\n",
       "      <td>Dick Johnson Is Dead</td>\n",
       "      <td>0</td>\n",
       "      <td>Others</td>\n",
       "    </tr>\n",
       "    <tr>\n",
       "      <th>1</th>\n",
       "      <td>Blood &amp; Water</td>\n",
       "      <td>0</td>\n",
       "      <td>Ama Qamata</td>\n",
       "    </tr>\n",
       "    <tr>\n",
       "      <th>2</th>\n",
       "      <td>Blood &amp; Water</td>\n",
       "      <td>1</td>\n",
       "      <td>Khosi Ngema</td>\n",
       "    </tr>\n",
       "    <tr>\n",
       "      <th>3</th>\n",
       "      <td>Blood &amp; Water</td>\n",
       "      <td>2</td>\n",
       "      <td>Gail Mabalane</td>\n",
       "    </tr>\n",
       "    <tr>\n",
       "      <th>4</th>\n",
       "      <td>Blood &amp; Water</td>\n",
       "      <td>3</td>\n",
       "      <td>Thabang Molaba</td>\n",
       "    </tr>\n",
       "  </tbody>\n",
       "</table>\n",
       "</div>"
      ],
      "text/plain": [
       "                  title  level_1               0\n",
       "0  Dick Johnson Is Dead        0          Others\n",
       "1         Blood & Water        0      Ama Qamata\n",
       "2         Blood & Water        1     Khosi Ngema\n",
       "3         Blood & Water        2   Gail Mabalane\n",
       "4         Blood & Water        3  Thabang Molaba"
      ]
     },
     "execution_count": 47,
     "metadata": {},
     "output_type": "execute_result"
    }
   ],
   "source": [
    "data_cast_stacked = pd.DataFrame(data_cast.stack()).reset_index()\n",
    "data_cast_stacked.head(5)"
   ]
  },
  {
   "cell_type": "code",
   "execution_count": 48,
   "id": "7c5d9d48",
   "metadata": {},
   "outputs": [
    {
     "data": {
      "text/html": [
       "<div>\n",
       "<style scoped>\n",
       "    .dataframe tbody tr th:only-of-type {\n",
       "        vertical-align: middle;\n",
       "    }\n",
       "\n",
       "    .dataframe tbody tr th {\n",
       "        vertical-align: top;\n",
       "    }\n",
       "\n",
       "    .dataframe thead th {\n",
       "        text-align: right;\n",
       "    }\n",
       "</style>\n",
       "<table border=\"1\" class=\"dataframe\">\n",
       "  <thead>\n",
       "    <tr style=\"text-align: right;\">\n",
       "      <th></th>\n",
       "      <th>title</th>\n",
       "      <th>cast</th>\n",
       "    </tr>\n",
       "  </thead>\n",
       "  <tbody>\n",
       "    <tr>\n",
       "      <th>0</th>\n",
       "      <td>Dick Johnson Is Dead</td>\n",
       "      <td>Others</td>\n",
       "    </tr>\n",
       "    <tr>\n",
       "      <th>1</th>\n",
       "      <td>Blood &amp; Water</td>\n",
       "      <td>Ama Qamata</td>\n",
       "    </tr>\n",
       "    <tr>\n",
       "      <th>2</th>\n",
       "      <td>Blood &amp; Water</td>\n",
       "      <td>Khosi Ngema</td>\n",
       "    </tr>\n",
       "    <tr>\n",
       "      <th>3</th>\n",
       "      <td>Blood &amp; Water</td>\n",
       "      <td>Gail Mabalane</td>\n",
       "    </tr>\n",
       "    <tr>\n",
       "      <th>4</th>\n",
       "      <td>Blood &amp; Water</td>\n",
       "      <td>Thabang Molaba</td>\n",
       "    </tr>\n",
       "  </tbody>\n",
       "</table>\n",
       "</div>"
      ],
      "text/plain": [
       "                  title            cast\n",
       "0  Dick Johnson Is Dead          Others\n",
       "1         Blood & Water      Ama Qamata\n",
       "2         Blood & Water     Khosi Ngema\n",
       "3         Blood & Water   Gail Mabalane\n",
       "4         Blood & Water  Thabang Molaba"
      ]
     },
     "execution_count": 48,
     "metadata": {},
     "output_type": "execute_result"
    }
   ],
   "source": [
    "data_cast_stacked = data_cast_stacked.drop(columns = ['level_1'],axis = 1)\n",
    "data_cast_stacked.rename(columns={0:'cast'}, inplace = True)\n",
    "data_cast_stacked.head(5)"
   ]
  },
  {
   "cell_type": "markdown",
   "id": "f6276e92",
   "metadata": {},
   "source": [
    "Unnested cast column is now added back to the original dataframe"
   ]
  },
  {
   "cell_type": "code",
   "execution_count": 49,
   "id": "0e00e97f",
   "metadata": {},
   "outputs": [
    {
     "data": {
      "text/html": [
       "<div>\n",
       "<style scoped>\n",
       "    .dataframe tbody tr th:only-of-type {\n",
       "        vertical-align: middle;\n",
       "    }\n",
       "\n",
       "    .dataframe tbody tr th {\n",
       "        vertical-align: top;\n",
       "    }\n",
       "\n",
       "    .dataframe thead th {\n",
       "        text-align: right;\n",
       "    }\n",
       "</style>\n",
       "<table border=\"1\" class=\"dataframe\">\n",
       "  <thead>\n",
       "    <tr style=\"text-align: right;\">\n",
       "      <th></th>\n",
       "      <th>show_id</th>\n",
       "      <th>type</th>\n",
       "      <th>title</th>\n",
       "      <th>director</th>\n",
       "      <th>cast_x</th>\n",
       "      <th>country</th>\n",
       "      <th>date_added</th>\n",
       "      <th>release_year</th>\n",
       "      <th>rating</th>\n",
       "      <th>duration</th>\n",
       "      <th>listed_in</th>\n",
       "      <th>description</th>\n",
       "      <th>month</th>\n",
       "      <th>added_year</th>\n",
       "      <th>cast_y</th>\n",
       "    </tr>\n",
       "  </thead>\n",
       "  <tbody>\n",
       "    <tr>\n",
       "      <th>0</th>\n",
       "      <td>s1</td>\n",
       "      <td>Movie</td>\n",
       "      <td>Dick Johnson Is Dead</td>\n",
       "      <td>Kirsten Johnson</td>\n",
       "      <td>Others</td>\n",
       "      <td>United States</td>\n",
       "      <td>2021-09-25</td>\n",
       "      <td>2020</td>\n",
       "      <td>PG-13</td>\n",
       "      <td>90 min</td>\n",
       "      <td>Documentaries</td>\n",
       "      <td>As her father nears the end of his life, filmm...</td>\n",
       "      <td>September</td>\n",
       "      <td>2021</td>\n",
       "      <td>Others</td>\n",
       "    </tr>\n",
       "    <tr>\n",
       "      <th>1</th>\n",
       "      <td>s2</td>\n",
       "      <td>TV Show</td>\n",
       "      <td>Blood &amp; Water</td>\n",
       "      <td>Others</td>\n",
       "      <td>Ama Qamata, Khosi Ngema, Gail Mabalane, Thaban...</td>\n",
       "      <td>South Africa</td>\n",
       "      <td>2021-09-24</td>\n",
       "      <td>2021</td>\n",
       "      <td>TV-MA</td>\n",
       "      <td>2 Seasons</td>\n",
       "      <td>International TV Shows, TV Dramas, TV Mysteries</td>\n",
       "      <td>After crossing paths at a party, a Cape Town t...</td>\n",
       "      <td>September</td>\n",
       "      <td>2021</td>\n",
       "      <td>Ama Qamata</td>\n",
       "    </tr>\n",
       "    <tr>\n",
       "      <th>2</th>\n",
       "      <td>s2</td>\n",
       "      <td>TV Show</td>\n",
       "      <td>Blood &amp; Water</td>\n",
       "      <td>Others</td>\n",
       "      <td>Ama Qamata, Khosi Ngema, Gail Mabalane, Thaban...</td>\n",
       "      <td>South Africa</td>\n",
       "      <td>2021-09-24</td>\n",
       "      <td>2021</td>\n",
       "      <td>TV-MA</td>\n",
       "      <td>2 Seasons</td>\n",
       "      <td>International TV Shows, TV Dramas, TV Mysteries</td>\n",
       "      <td>After crossing paths at a party, a Cape Town t...</td>\n",
       "      <td>September</td>\n",
       "      <td>2021</td>\n",
       "      <td>Khosi Ngema</td>\n",
       "    </tr>\n",
       "    <tr>\n",
       "      <th>3</th>\n",
       "      <td>s2</td>\n",
       "      <td>TV Show</td>\n",
       "      <td>Blood &amp; Water</td>\n",
       "      <td>Others</td>\n",
       "      <td>Ama Qamata, Khosi Ngema, Gail Mabalane, Thaban...</td>\n",
       "      <td>South Africa</td>\n",
       "      <td>2021-09-24</td>\n",
       "      <td>2021</td>\n",
       "      <td>TV-MA</td>\n",
       "      <td>2 Seasons</td>\n",
       "      <td>International TV Shows, TV Dramas, TV Mysteries</td>\n",
       "      <td>After crossing paths at a party, a Cape Town t...</td>\n",
       "      <td>September</td>\n",
       "      <td>2021</td>\n",
       "      <td>Gail Mabalane</td>\n",
       "    </tr>\n",
       "    <tr>\n",
       "      <th>4</th>\n",
       "      <td>s2</td>\n",
       "      <td>TV Show</td>\n",
       "      <td>Blood &amp; Water</td>\n",
       "      <td>Others</td>\n",
       "      <td>Ama Qamata, Khosi Ngema, Gail Mabalane, Thaban...</td>\n",
       "      <td>South Africa</td>\n",
       "      <td>2021-09-24</td>\n",
       "      <td>2021</td>\n",
       "      <td>TV-MA</td>\n",
       "      <td>2 Seasons</td>\n",
       "      <td>International TV Shows, TV Dramas, TV Mysteries</td>\n",
       "      <td>After crossing paths at a party, a Cape Town t...</td>\n",
       "      <td>September</td>\n",
       "      <td>2021</td>\n",
       "      <td>Thabang Molaba</td>\n",
       "    </tr>\n",
       "  </tbody>\n",
       "</table>\n",
       "</div>"
      ],
      "text/plain": [
       "  show_id     type                 title         director  \\\n",
       "0      s1    Movie  Dick Johnson Is Dead  Kirsten Johnson   \n",
       "1      s2  TV Show         Blood & Water           Others   \n",
       "2      s2  TV Show         Blood & Water           Others   \n",
       "3      s2  TV Show         Blood & Water           Others   \n",
       "4      s2  TV Show         Blood & Water           Others   \n",
       "\n",
       "                                              cast_x        country  \\\n",
       "0                                             Others  United States   \n",
       "1  Ama Qamata, Khosi Ngema, Gail Mabalane, Thaban...   South Africa   \n",
       "2  Ama Qamata, Khosi Ngema, Gail Mabalane, Thaban...   South Africa   \n",
       "3  Ama Qamata, Khosi Ngema, Gail Mabalane, Thaban...   South Africa   \n",
       "4  Ama Qamata, Khosi Ngema, Gail Mabalane, Thaban...   South Africa   \n",
       "\n",
       "  date_added  release_year rating   duration  \\\n",
       "0 2021-09-25          2020  PG-13     90 min   \n",
       "1 2021-09-24          2021  TV-MA  2 Seasons   \n",
       "2 2021-09-24          2021  TV-MA  2 Seasons   \n",
       "3 2021-09-24          2021  TV-MA  2 Seasons   \n",
       "4 2021-09-24          2021  TV-MA  2 Seasons   \n",
       "\n",
       "                                         listed_in  \\\n",
       "0                                    Documentaries   \n",
       "1  International TV Shows, TV Dramas, TV Mysteries   \n",
       "2  International TV Shows, TV Dramas, TV Mysteries   \n",
       "3  International TV Shows, TV Dramas, TV Mysteries   \n",
       "4  International TV Shows, TV Dramas, TV Mysteries   \n",
       "\n",
       "                                         description      month  added_year  \\\n",
       "0  As her father nears the end of his life, filmm...  September        2021   \n",
       "1  After crossing paths at a party, a Cape Town t...  September        2021   \n",
       "2  After crossing paths at a party, a Cape Town t...  September        2021   \n",
       "3  After crossing paths at a party, a Cape Town t...  September        2021   \n",
       "4  After crossing paths at a party, a Cape Town t...  September        2021   \n",
       "\n",
       "           cast_y  \n",
       "0          Others  \n",
       "1      Ama Qamata  \n",
       "2     Khosi Ngema  \n",
       "3   Gail Mabalane  \n",
       "4  Thabang Molaba  "
      ]
     },
     "execution_count": 49,
     "metadata": {},
     "output_type": "execute_result"
    }
   ],
   "source": [
    "data =data.merge(data_cast_stacked, on = 'title', how = 'inner')\n",
    "data.head(5)"
   ]
  },
  {
   "cell_type": "code",
   "execution_count": 50,
   "id": "0aff2a39",
   "metadata": {
    "scrolled": true
   },
   "outputs": [],
   "source": [
    "data.drop(columns = ['cast_x'],axis = 1, inplace = True)"
   ]
  },
  {
   "cell_type": "code",
   "execution_count": 51,
   "id": "7add51e0",
   "metadata": {},
   "outputs": [
    {
     "data": {
      "text/html": [
       "<div>\n",
       "<style scoped>\n",
       "    .dataframe tbody tr th:only-of-type {\n",
       "        vertical-align: middle;\n",
       "    }\n",
       "\n",
       "    .dataframe tbody tr th {\n",
       "        vertical-align: top;\n",
       "    }\n",
       "\n",
       "    .dataframe thead th {\n",
       "        text-align: right;\n",
       "    }\n",
       "</style>\n",
       "<table border=\"1\" class=\"dataframe\">\n",
       "  <thead>\n",
       "    <tr style=\"text-align: right;\">\n",
       "      <th></th>\n",
       "      <th>show_id</th>\n",
       "      <th>type</th>\n",
       "      <th>title</th>\n",
       "      <th>director</th>\n",
       "      <th>country</th>\n",
       "      <th>date_added</th>\n",
       "      <th>release_year</th>\n",
       "      <th>rating</th>\n",
       "      <th>duration</th>\n",
       "      <th>listed_in</th>\n",
       "      <th>description</th>\n",
       "      <th>month</th>\n",
       "      <th>added_year</th>\n",
       "      <th>cast_y</th>\n",
       "    </tr>\n",
       "  </thead>\n",
       "  <tbody>\n",
       "    <tr>\n",
       "      <th>0</th>\n",
       "      <td>s1</td>\n",
       "      <td>Movie</td>\n",
       "      <td>Dick Johnson Is Dead</td>\n",
       "      <td>Kirsten Johnson</td>\n",
       "      <td>United States</td>\n",
       "      <td>2021-09-25</td>\n",
       "      <td>2020</td>\n",
       "      <td>PG-13</td>\n",
       "      <td>90 min</td>\n",
       "      <td>Documentaries</td>\n",
       "      <td>As her father nears the end of his life, filmm...</td>\n",
       "      <td>September</td>\n",
       "      <td>2021</td>\n",
       "      <td>Others</td>\n",
       "    </tr>\n",
       "    <tr>\n",
       "      <th>1</th>\n",
       "      <td>s2</td>\n",
       "      <td>TV Show</td>\n",
       "      <td>Blood &amp; Water</td>\n",
       "      <td>Others</td>\n",
       "      <td>South Africa</td>\n",
       "      <td>2021-09-24</td>\n",
       "      <td>2021</td>\n",
       "      <td>TV-MA</td>\n",
       "      <td>2 Seasons</td>\n",
       "      <td>International TV Shows, TV Dramas, TV Mysteries</td>\n",
       "      <td>After crossing paths at a party, a Cape Town t...</td>\n",
       "      <td>September</td>\n",
       "      <td>2021</td>\n",
       "      <td>Ama Qamata</td>\n",
       "    </tr>\n",
       "    <tr>\n",
       "      <th>2</th>\n",
       "      <td>s2</td>\n",
       "      <td>TV Show</td>\n",
       "      <td>Blood &amp; Water</td>\n",
       "      <td>Others</td>\n",
       "      <td>South Africa</td>\n",
       "      <td>2021-09-24</td>\n",
       "      <td>2021</td>\n",
       "      <td>TV-MA</td>\n",
       "      <td>2 Seasons</td>\n",
       "      <td>International TV Shows, TV Dramas, TV Mysteries</td>\n",
       "      <td>After crossing paths at a party, a Cape Town t...</td>\n",
       "      <td>September</td>\n",
       "      <td>2021</td>\n",
       "      <td>Khosi Ngema</td>\n",
       "    </tr>\n",
       "    <tr>\n",
       "      <th>3</th>\n",
       "      <td>s2</td>\n",
       "      <td>TV Show</td>\n",
       "      <td>Blood &amp; Water</td>\n",
       "      <td>Others</td>\n",
       "      <td>South Africa</td>\n",
       "      <td>2021-09-24</td>\n",
       "      <td>2021</td>\n",
       "      <td>TV-MA</td>\n",
       "      <td>2 Seasons</td>\n",
       "      <td>International TV Shows, TV Dramas, TV Mysteries</td>\n",
       "      <td>After crossing paths at a party, a Cape Town t...</td>\n",
       "      <td>September</td>\n",
       "      <td>2021</td>\n",
       "      <td>Gail Mabalane</td>\n",
       "    </tr>\n",
       "    <tr>\n",
       "      <th>4</th>\n",
       "      <td>s2</td>\n",
       "      <td>TV Show</td>\n",
       "      <td>Blood &amp; Water</td>\n",
       "      <td>Others</td>\n",
       "      <td>South Africa</td>\n",
       "      <td>2021-09-24</td>\n",
       "      <td>2021</td>\n",
       "      <td>TV-MA</td>\n",
       "      <td>2 Seasons</td>\n",
       "      <td>International TV Shows, TV Dramas, TV Mysteries</td>\n",
       "      <td>After crossing paths at a party, a Cape Town t...</td>\n",
       "      <td>September</td>\n",
       "      <td>2021</td>\n",
       "      <td>Thabang Molaba</td>\n",
       "    </tr>\n",
       "  </tbody>\n",
       "</table>\n",
       "</div>"
      ],
      "text/plain": [
       "  show_id     type                 title         director        country  \\\n",
       "0      s1    Movie  Dick Johnson Is Dead  Kirsten Johnson  United States   \n",
       "1      s2  TV Show         Blood & Water           Others   South Africa   \n",
       "2      s2  TV Show         Blood & Water           Others   South Africa   \n",
       "3      s2  TV Show         Blood & Water           Others   South Africa   \n",
       "4      s2  TV Show         Blood & Water           Others   South Africa   \n",
       "\n",
       "  date_added  release_year rating   duration  \\\n",
       "0 2021-09-25          2020  PG-13     90 min   \n",
       "1 2021-09-24          2021  TV-MA  2 Seasons   \n",
       "2 2021-09-24          2021  TV-MA  2 Seasons   \n",
       "3 2021-09-24          2021  TV-MA  2 Seasons   \n",
       "4 2021-09-24          2021  TV-MA  2 Seasons   \n",
       "\n",
       "                                         listed_in  \\\n",
       "0                                    Documentaries   \n",
       "1  International TV Shows, TV Dramas, TV Mysteries   \n",
       "2  International TV Shows, TV Dramas, TV Mysteries   \n",
       "3  International TV Shows, TV Dramas, TV Mysteries   \n",
       "4  International TV Shows, TV Dramas, TV Mysteries   \n",
       "\n",
       "                                         description      month  added_year  \\\n",
       "0  As her father nears the end of his life, filmm...  September        2021   \n",
       "1  After crossing paths at a party, a Cape Town t...  September        2021   \n",
       "2  After crossing paths at a party, a Cape Town t...  September        2021   \n",
       "3  After crossing paths at a party, a Cape Town t...  September        2021   \n",
       "4  After crossing paths at a party, a Cape Town t...  September        2021   \n",
       "\n",
       "           cast_y  \n",
       "0          Others  \n",
       "1      Ama Qamata  \n",
       "2     Khosi Ngema  \n",
       "3   Gail Mabalane  \n",
       "4  Thabang Molaba  "
      ]
     },
     "execution_count": 51,
     "metadata": {},
     "output_type": "execute_result"
    }
   ],
   "source": [
    "data.head(5)"
   ]
  },
  {
   "cell_type": "markdown",
   "id": "66a6039a",
   "metadata": {},
   "source": [
    "#### column 'description' also holds no significance for this analysis"
   ]
  },
  {
   "cell_type": "code",
   "execution_count": 52,
   "id": "2b9c5508",
   "metadata": {},
   "outputs": [],
   "source": [
    "data.drop(columns = ['description'],axis = 1, inplace = True)"
   ]
  },
  {
   "cell_type": "code",
   "execution_count": 53,
   "id": "905d7be4",
   "metadata": {},
   "outputs": [
    {
     "data": {
      "text/html": [
       "<div>\n",
       "<style scoped>\n",
       "    .dataframe tbody tr th:only-of-type {\n",
       "        vertical-align: middle;\n",
       "    }\n",
       "\n",
       "    .dataframe tbody tr th {\n",
       "        vertical-align: top;\n",
       "    }\n",
       "\n",
       "    .dataframe thead th {\n",
       "        text-align: right;\n",
       "    }\n",
       "</style>\n",
       "<table border=\"1\" class=\"dataframe\">\n",
       "  <thead>\n",
       "    <tr style=\"text-align: right;\">\n",
       "      <th></th>\n",
       "      <th>show_id</th>\n",
       "      <th>type</th>\n",
       "      <th>title</th>\n",
       "      <th>director</th>\n",
       "      <th>country</th>\n",
       "      <th>date_added</th>\n",
       "      <th>release_year</th>\n",
       "      <th>rating</th>\n",
       "      <th>duration</th>\n",
       "      <th>listed_in</th>\n",
       "      <th>month</th>\n",
       "      <th>added_year</th>\n",
       "      <th>cast_y</th>\n",
       "    </tr>\n",
       "  </thead>\n",
       "  <tbody>\n",
       "    <tr>\n",
       "      <th>0</th>\n",
       "      <td>s1</td>\n",
       "      <td>Movie</td>\n",
       "      <td>Dick Johnson Is Dead</td>\n",
       "      <td>Kirsten Johnson</td>\n",
       "      <td>United States</td>\n",
       "      <td>2021-09-25</td>\n",
       "      <td>2020</td>\n",
       "      <td>PG-13</td>\n",
       "      <td>90 min</td>\n",
       "      <td>Documentaries</td>\n",
       "      <td>September</td>\n",
       "      <td>2021</td>\n",
       "      <td>Others</td>\n",
       "    </tr>\n",
       "    <tr>\n",
       "      <th>1</th>\n",
       "      <td>s2</td>\n",
       "      <td>TV Show</td>\n",
       "      <td>Blood &amp; Water</td>\n",
       "      <td>Others</td>\n",
       "      <td>South Africa</td>\n",
       "      <td>2021-09-24</td>\n",
       "      <td>2021</td>\n",
       "      <td>TV-MA</td>\n",
       "      <td>2 Seasons</td>\n",
       "      <td>International TV Shows, TV Dramas, TV Mysteries</td>\n",
       "      <td>September</td>\n",
       "      <td>2021</td>\n",
       "      <td>Ama Qamata</td>\n",
       "    </tr>\n",
       "    <tr>\n",
       "      <th>2</th>\n",
       "      <td>s2</td>\n",
       "      <td>TV Show</td>\n",
       "      <td>Blood &amp; Water</td>\n",
       "      <td>Others</td>\n",
       "      <td>South Africa</td>\n",
       "      <td>2021-09-24</td>\n",
       "      <td>2021</td>\n",
       "      <td>TV-MA</td>\n",
       "      <td>2 Seasons</td>\n",
       "      <td>International TV Shows, TV Dramas, TV Mysteries</td>\n",
       "      <td>September</td>\n",
       "      <td>2021</td>\n",
       "      <td>Khosi Ngema</td>\n",
       "    </tr>\n",
       "    <tr>\n",
       "      <th>3</th>\n",
       "      <td>s2</td>\n",
       "      <td>TV Show</td>\n",
       "      <td>Blood &amp; Water</td>\n",
       "      <td>Others</td>\n",
       "      <td>South Africa</td>\n",
       "      <td>2021-09-24</td>\n",
       "      <td>2021</td>\n",
       "      <td>TV-MA</td>\n",
       "      <td>2 Seasons</td>\n",
       "      <td>International TV Shows, TV Dramas, TV Mysteries</td>\n",
       "      <td>September</td>\n",
       "      <td>2021</td>\n",
       "      <td>Gail Mabalane</td>\n",
       "    </tr>\n",
       "    <tr>\n",
       "      <th>4</th>\n",
       "      <td>s2</td>\n",
       "      <td>TV Show</td>\n",
       "      <td>Blood &amp; Water</td>\n",
       "      <td>Others</td>\n",
       "      <td>South Africa</td>\n",
       "      <td>2021-09-24</td>\n",
       "      <td>2021</td>\n",
       "      <td>TV-MA</td>\n",
       "      <td>2 Seasons</td>\n",
       "      <td>International TV Shows, TV Dramas, TV Mysteries</td>\n",
       "      <td>September</td>\n",
       "      <td>2021</td>\n",
       "      <td>Thabang Molaba</td>\n",
       "    </tr>\n",
       "  </tbody>\n",
       "</table>\n",
       "</div>"
      ],
      "text/plain": [
       "  show_id     type                 title         director        country  \\\n",
       "0      s1    Movie  Dick Johnson Is Dead  Kirsten Johnson  United States   \n",
       "1      s2  TV Show         Blood & Water           Others   South Africa   \n",
       "2      s2  TV Show         Blood & Water           Others   South Africa   \n",
       "3      s2  TV Show         Blood & Water           Others   South Africa   \n",
       "4      s2  TV Show         Blood & Water           Others   South Africa   \n",
       "\n",
       "  date_added  release_year rating   duration  \\\n",
       "0 2021-09-25          2020  PG-13     90 min   \n",
       "1 2021-09-24          2021  TV-MA  2 Seasons   \n",
       "2 2021-09-24          2021  TV-MA  2 Seasons   \n",
       "3 2021-09-24          2021  TV-MA  2 Seasons   \n",
       "4 2021-09-24          2021  TV-MA  2 Seasons   \n",
       "\n",
       "                                         listed_in      month  added_year  \\\n",
       "0                                    Documentaries  September        2021   \n",
       "1  International TV Shows, TV Dramas, TV Mysteries  September        2021   \n",
       "2  International TV Shows, TV Dramas, TV Mysteries  September        2021   \n",
       "3  International TV Shows, TV Dramas, TV Mysteries  September        2021   \n",
       "4  International TV Shows, TV Dramas, TV Mysteries  September        2021   \n",
       "\n",
       "           cast_y  \n",
       "0          Others  \n",
       "1      Ama Qamata  \n",
       "2     Khosi Ngema  \n",
       "3   Gail Mabalane  \n",
       "4  Thabang Molaba  "
      ]
     },
     "execution_count": 53,
     "metadata": {},
     "output_type": "execute_result"
    }
   ],
   "source": [
    "data.head(5)"
   ]
  },
  {
   "cell_type": "markdown",
   "id": "e7e5c35b",
   "metadata": {},
   "source": [
    "#### Column : country"
   ]
  },
  {
   "cell_type": "code",
   "execution_count": 54,
   "id": "2b129f31",
   "metadata": {},
   "outputs": [
    {
     "data": {
      "text/plain": [
       "[['United States'],\n",
       " ['South Africa'],\n",
       " ['South Africa'],\n",
       " ['South Africa'],\n",
       " ['South Africa'],\n",
       " ['South Africa'],\n",
       " ['South Africa'],\n",
       " ['South Africa'],\n",
       " ['South Africa'],\n",
       " ['South Africa']]"
      ]
     },
     "execution_count": 54,
     "metadata": {},
     "output_type": "execute_result"
    }
   ],
   "source": [
    "country = data[\"country\"].apply(lambda x:str(x).split(\", \")).tolist()\n",
    "country[:10]"
   ]
  },
  {
   "cell_type": "code",
   "execution_count": 55,
   "id": "0c848515",
   "metadata": {},
   "outputs": [
    {
     "data": {
      "text/html": [
       "<div>\n",
       "<style scoped>\n",
       "    .dataframe tbody tr th:only-of-type {\n",
       "        vertical-align: middle;\n",
       "    }\n",
       "\n",
       "    .dataframe tbody tr th {\n",
       "        vertical-align: top;\n",
       "    }\n",
       "\n",
       "    .dataframe thead th {\n",
       "        text-align: right;\n",
       "    }\n",
       "</style>\n",
       "<table border=\"1\" class=\"dataframe\">\n",
       "  <thead>\n",
       "    <tr style=\"text-align: right;\">\n",
       "      <th></th>\n",
       "      <th>0</th>\n",
       "      <th>1</th>\n",
       "      <th>2</th>\n",
       "      <th>3</th>\n",
       "      <th>4</th>\n",
       "      <th>5</th>\n",
       "      <th>6</th>\n",
       "      <th>7</th>\n",
       "      <th>8</th>\n",
       "      <th>9</th>\n",
       "      <th>10</th>\n",
       "      <th>11</th>\n",
       "    </tr>\n",
       "    <tr>\n",
       "      <th>title</th>\n",
       "      <th></th>\n",
       "      <th></th>\n",
       "      <th></th>\n",
       "      <th></th>\n",
       "      <th></th>\n",
       "      <th></th>\n",
       "      <th></th>\n",
       "      <th></th>\n",
       "      <th></th>\n",
       "      <th></th>\n",
       "      <th></th>\n",
       "      <th></th>\n",
       "    </tr>\n",
       "  </thead>\n",
       "  <tbody>\n",
       "    <tr>\n",
       "      <th>Dick Johnson Is Dead</th>\n",
       "      <td>United States</td>\n",
       "      <td>None</td>\n",
       "      <td>None</td>\n",
       "      <td>None</td>\n",
       "      <td>None</td>\n",
       "      <td>None</td>\n",
       "      <td>None</td>\n",
       "      <td>None</td>\n",
       "      <td>None</td>\n",
       "      <td>None</td>\n",
       "      <td>None</td>\n",
       "      <td>None</td>\n",
       "    </tr>\n",
       "    <tr>\n",
       "      <th>Blood &amp; Water</th>\n",
       "      <td>South Africa</td>\n",
       "      <td>None</td>\n",
       "      <td>None</td>\n",
       "      <td>None</td>\n",
       "      <td>None</td>\n",
       "      <td>None</td>\n",
       "      <td>None</td>\n",
       "      <td>None</td>\n",
       "      <td>None</td>\n",
       "      <td>None</td>\n",
       "      <td>None</td>\n",
       "      <td>None</td>\n",
       "    </tr>\n",
       "    <tr>\n",
       "      <th>Blood &amp; Water</th>\n",
       "      <td>South Africa</td>\n",
       "      <td>None</td>\n",
       "      <td>None</td>\n",
       "      <td>None</td>\n",
       "      <td>None</td>\n",
       "      <td>None</td>\n",
       "      <td>None</td>\n",
       "      <td>None</td>\n",
       "      <td>None</td>\n",
       "      <td>None</td>\n",
       "      <td>None</td>\n",
       "      <td>None</td>\n",
       "    </tr>\n",
       "    <tr>\n",
       "      <th>Blood &amp; Water</th>\n",
       "      <td>South Africa</td>\n",
       "      <td>None</td>\n",
       "      <td>None</td>\n",
       "      <td>None</td>\n",
       "      <td>None</td>\n",
       "      <td>None</td>\n",
       "      <td>None</td>\n",
       "      <td>None</td>\n",
       "      <td>None</td>\n",
       "      <td>None</td>\n",
       "      <td>None</td>\n",
       "      <td>None</td>\n",
       "    </tr>\n",
       "    <tr>\n",
       "      <th>Blood &amp; Water</th>\n",
       "      <td>South Africa</td>\n",
       "      <td>None</td>\n",
       "      <td>None</td>\n",
       "      <td>None</td>\n",
       "      <td>None</td>\n",
       "      <td>None</td>\n",
       "      <td>None</td>\n",
       "      <td>None</td>\n",
       "      <td>None</td>\n",
       "      <td>None</td>\n",
       "      <td>None</td>\n",
       "      <td>None</td>\n",
       "    </tr>\n",
       "  </tbody>\n",
       "</table>\n",
       "</div>"
      ],
      "text/plain": [
       "                                 0     1     2     3     4     5     6     7   \\\n",
       "title                                                                           \n",
       "Dick Johnson Is Dead  United States  None  None  None  None  None  None  None   \n",
       "Blood & Water          South Africa  None  None  None  None  None  None  None   \n",
       "Blood & Water          South Africa  None  None  None  None  None  None  None   \n",
       "Blood & Water          South Africa  None  None  None  None  None  None  None   \n",
       "Blood & Water          South Africa  None  None  None  None  None  None  None   \n",
       "\n",
       "                        8     9     10    11  \n",
       "title                                         \n",
       "Dick Johnson Is Dead  None  None  None  None  \n",
       "Blood & Water         None  None  None  None  \n",
       "Blood & Water         None  None  None  None  \n",
       "Blood & Water         None  None  None  None  \n",
       "Blood & Water         None  None  None  None  "
      ]
     },
     "execution_count": 55,
     "metadata": {},
     "output_type": "execute_result"
    }
   ],
   "source": [
    "data_country=pd.DataFrame(country,index=data[\"title\"])\n",
    "data_country.head(5)"
   ]
  },
  {
   "cell_type": "code",
   "execution_count": 56,
   "id": "9d703459",
   "metadata": {},
   "outputs": [
    {
     "data": {
      "text/html": [
       "<div>\n",
       "<style scoped>\n",
       "    .dataframe tbody tr th:only-of-type {\n",
       "        vertical-align: middle;\n",
       "    }\n",
       "\n",
       "    .dataframe tbody tr th {\n",
       "        vertical-align: top;\n",
       "    }\n",
       "\n",
       "    .dataframe thead th {\n",
       "        text-align: right;\n",
       "    }\n",
       "</style>\n",
       "<table border=\"1\" class=\"dataframe\">\n",
       "  <thead>\n",
       "    <tr style=\"text-align: right;\">\n",
       "      <th></th>\n",
       "      <th>title</th>\n",
       "      <th>level_1</th>\n",
       "      <th>0</th>\n",
       "    </tr>\n",
       "  </thead>\n",
       "  <tbody>\n",
       "    <tr>\n",
       "      <th>0</th>\n",
       "      <td>Dick Johnson Is Dead</td>\n",
       "      <td>0</td>\n",
       "      <td>United States</td>\n",
       "    </tr>\n",
       "    <tr>\n",
       "      <th>1</th>\n",
       "      <td>Blood &amp; Water</td>\n",
       "      <td>0</td>\n",
       "      <td>South Africa</td>\n",
       "    </tr>\n",
       "    <tr>\n",
       "      <th>2</th>\n",
       "      <td>Blood &amp; Water</td>\n",
       "      <td>0</td>\n",
       "      <td>South Africa</td>\n",
       "    </tr>\n",
       "    <tr>\n",
       "      <th>3</th>\n",
       "      <td>Blood &amp; Water</td>\n",
       "      <td>0</td>\n",
       "      <td>South Africa</td>\n",
       "    </tr>\n",
       "    <tr>\n",
       "      <th>4</th>\n",
       "      <td>Blood &amp; Water</td>\n",
       "      <td>0</td>\n",
       "      <td>South Africa</td>\n",
       "    </tr>\n",
       "  </tbody>\n",
       "</table>\n",
       "</div>"
      ],
      "text/plain": [
       "                  title  level_1              0\n",
       "0  Dick Johnson Is Dead        0  United States\n",
       "1         Blood & Water        0   South Africa\n",
       "2         Blood & Water        0   South Africa\n",
       "3         Blood & Water        0   South Africa\n",
       "4         Blood & Water        0   South Africa"
      ]
     },
     "execution_count": 56,
     "metadata": {},
     "output_type": "execute_result"
    }
   ],
   "source": [
    "data_country_stacked = pd.DataFrame(data_country.stack()).reset_index()\n",
    "data_country_stacked.head(5)"
   ]
  },
  {
   "cell_type": "code",
   "execution_count": 57,
   "id": "06c0927c",
   "metadata": {},
   "outputs": [],
   "source": [
    "data_country_stacked = data_country_stacked.drop(columns = ['level_1'],axis = 1)\n",
    "data_country_stacked.rename(columns={0:'country'}, inplace = True)"
   ]
  },
  {
   "cell_type": "code",
   "execution_count": 58,
   "id": "837628e9",
   "metadata": {},
   "outputs": [
    {
     "data": {
      "text/html": [
       "<div>\n",
       "<style scoped>\n",
       "    .dataframe tbody tr th:only-of-type {\n",
       "        vertical-align: middle;\n",
       "    }\n",
       "\n",
       "    .dataframe tbody tr th {\n",
       "        vertical-align: top;\n",
       "    }\n",
       "\n",
       "    .dataframe thead th {\n",
       "        text-align: right;\n",
       "    }\n",
       "</style>\n",
       "<table border=\"1\" class=\"dataframe\">\n",
       "  <thead>\n",
       "    <tr style=\"text-align: right;\">\n",
       "      <th></th>\n",
       "      <th>title</th>\n",
       "      <th>country</th>\n",
       "    </tr>\n",
       "  </thead>\n",
       "  <tbody>\n",
       "    <tr>\n",
       "      <th>0</th>\n",
       "      <td>Dick Johnson Is Dead</td>\n",
       "      <td>United States</td>\n",
       "    </tr>\n",
       "    <tr>\n",
       "      <th>1</th>\n",
       "      <td>Blood &amp; Water</td>\n",
       "      <td>South Africa</td>\n",
       "    </tr>\n",
       "    <tr>\n",
       "      <th>2</th>\n",
       "      <td>Blood &amp; Water</td>\n",
       "      <td>South Africa</td>\n",
       "    </tr>\n",
       "    <tr>\n",
       "      <th>3</th>\n",
       "      <td>Blood &amp; Water</td>\n",
       "      <td>South Africa</td>\n",
       "    </tr>\n",
       "    <tr>\n",
       "      <th>4</th>\n",
       "      <td>Blood &amp; Water</td>\n",
       "      <td>South Africa</td>\n",
       "    </tr>\n",
       "  </tbody>\n",
       "</table>\n",
       "</div>"
      ],
      "text/plain": [
       "                  title        country\n",
       "0  Dick Johnson Is Dead  United States\n",
       "1         Blood & Water   South Africa\n",
       "2         Blood & Water   South Africa\n",
       "3         Blood & Water   South Africa\n",
       "4         Blood & Water   South Africa"
      ]
     },
     "execution_count": 58,
     "metadata": {},
     "output_type": "execute_result"
    }
   ],
   "source": [
    "data_country_stacked.head(5)"
   ]
  },
  {
   "cell_type": "code",
   "execution_count": 59,
   "id": "2a729165",
   "metadata": {},
   "outputs": [
    {
     "data": {
      "text/html": [
       "<div>\n",
       "<style scoped>\n",
       "    .dataframe tbody tr th:only-of-type {\n",
       "        vertical-align: middle;\n",
       "    }\n",
       "\n",
       "    .dataframe tbody tr th {\n",
       "        vertical-align: top;\n",
       "    }\n",
       "\n",
       "    .dataframe thead th {\n",
       "        text-align: right;\n",
       "    }\n",
       "</style>\n",
       "<table border=\"1\" class=\"dataframe\">\n",
       "  <thead>\n",
       "    <tr style=\"text-align: right;\">\n",
       "      <th></th>\n",
       "      <th>show_id</th>\n",
       "      <th>type</th>\n",
       "      <th>title</th>\n",
       "      <th>director</th>\n",
       "      <th>country_x</th>\n",
       "      <th>date_added</th>\n",
       "      <th>release_year</th>\n",
       "      <th>rating</th>\n",
       "      <th>duration</th>\n",
       "      <th>listed_in</th>\n",
       "      <th>month</th>\n",
       "      <th>added_year</th>\n",
       "      <th>cast_y</th>\n",
       "      <th>country_y</th>\n",
       "    </tr>\n",
       "  </thead>\n",
       "  <tbody>\n",
       "    <tr>\n",
       "      <th>0</th>\n",
       "      <td>s1</td>\n",
       "      <td>Movie</td>\n",
       "      <td>Dick Johnson Is Dead</td>\n",
       "      <td>Kirsten Johnson</td>\n",
       "      <td>United States</td>\n",
       "      <td>2021-09-25</td>\n",
       "      <td>2020</td>\n",
       "      <td>PG-13</td>\n",
       "      <td>90 min</td>\n",
       "      <td>Documentaries</td>\n",
       "      <td>September</td>\n",
       "      <td>2021</td>\n",
       "      <td>Others</td>\n",
       "      <td>United States</td>\n",
       "    </tr>\n",
       "    <tr>\n",
       "      <th>1</th>\n",
       "      <td>s2</td>\n",
       "      <td>TV Show</td>\n",
       "      <td>Blood &amp; Water</td>\n",
       "      <td>Others</td>\n",
       "      <td>South Africa</td>\n",
       "      <td>2021-09-24</td>\n",
       "      <td>2021</td>\n",
       "      <td>TV-MA</td>\n",
       "      <td>2 Seasons</td>\n",
       "      <td>International TV Shows, TV Dramas, TV Mysteries</td>\n",
       "      <td>September</td>\n",
       "      <td>2021</td>\n",
       "      <td>Ama Qamata</td>\n",
       "      <td>South Africa</td>\n",
       "    </tr>\n",
       "    <tr>\n",
       "      <th>2</th>\n",
       "      <td>s2</td>\n",
       "      <td>TV Show</td>\n",
       "      <td>Blood &amp; Water</td>\n",
       "      <td>Others</td>\n",
       "      <td>South Africa</td>\n",
       "      <td>2021-09-24</td>\n",
       "      <td>2021</td>\n",
       "      <td>TV-MA</td>\n",
       "      <td>2 Seasons</td>\n",
       "      <td>International TV Shows, TV Dramas, TV Mysteries</td>\n",
       "      <td>September</td>\n",
       "      <td>2021</td>\n",
       "      <td>Ama Qamata</td>\n",
       "      <td>South Africa</td>\n",
       "    </tr>\n",
       "    <tr>\n",
       "      <th>3</th>\n",
       "      <td>s2</td>\n",
       "      <td>TV Show</td>\n",
       "      <td>Blood &amp; Water</td>\n",
       "      <td>Others</td>\n",
       "      <td>South Africa</td>\n",
       "      <td>2021-09-24</td>\n",
       "      <td>2021</td>\n",
       "      <td>TV-MA</td>\n",
       "      <td>2 Seasons</td>\n",
       "      <td>International TV Shows, TV Dramas, TV Mysteries</td>\n",
       "      <td>September</td>\n",
       "      <td>2021</td>\n",
       "      <td>Ama Qamata</td>\n",
       "      <td>South Africa</td>\n",
       "    </tr>\n",
       "    <tr>\n",
       "      <th>4</th>\n",
       "      <td>s2</td>\n",
       "      <td>TV Show</td>\n",
       "      <td>Blood &amp; Water</td>\n",
       "      <td>Others</td>\n",
       "      <td>South Africa</td>\n",
       "      <td>2021-09-24</td>\n",
       "      <td>2021</td>\n",
       "      <td>TV-MA</td>\n",
       "      <td>2 Seasons</td>\n",
       "      <td>International TV Shows, TV Dramas, TV Mysteries</td>\n",
       "      <td>September</td>\n",
       "      <td>2021</td>\n",
       "      <td>Ama Qamata</td>\n",
       "      <td>South Africa</td>\n",
       "    </tr>\n",
       "  </tbody>\n",
       "</table>\n",
       "</div>"
      ],
      "text/plain": [
       "  show_id     type                 title         director      country_x  \\\n",
       "0      s1    Movie  Dick Johnson Is Dead  Kirsten Johnson  United States   \n",
       "1      s2  TV Show         Blood & Water           Others   South Africa   \n",
       "2      s2  TV Show         Blood & Water           Others   South Africa   \n",
       "3      s2  TV Show         Blood & Water           Others   South Africa   \n",
       "4      s2  TV Show         Blood & Water           Others   South Africa   \n",
       "\n",
       "  date_added  release_year rating   duration  \\\n",
       "0 2021-09-25          2020  PG-13     90 min   \n",
       "1 2021-09-24          2021  TV-MA  2 Seasons   \n",
       "2 2021-09-24          2021  TV-MA  2 Seasons   \n",
       "3 2021-09-24          2021  TV-MA  2 Seasons   \n",
       "4 2021-09-24          2021  TV-MA  2 Seasons   \n",
       "\n",
       "                                         listed_in      month  added_year  \\\n",
       "0                                    Documentaries  September        2021   \n",
       "1  International TV Shows, TV Dramas, TV Mysteries  September        2021   \n",
       "2  International TV Shows, TV Dramas, TV Mysteries  September        2021   \n",
       "3  International TV Shows, TV Dramas, TV Mysteries  September        2021   \n",
       "4  International TV Shows, TV Dramas, TV Mysteries  September        2021   \n",
       "\n",
       "       cast_y      country_y  \n",
       "0      Others  United States  \n",
       "1  Ama Qamata   South Africa  \n",
       "2  Ama Qamata   South Africa  \n",
       "3  Ama Qamata   South Africa  \n",
       "4  Ama Qamata   South Africa  "
      ]
     },
     "execution_count": 59,
     "metadata": {},
     "output_type": "execute_result"
    }
   ],
   "source": [
    "data =data.merge(data_country_stacked, on = 'title', how = 'inner')\n",
    "data.head(5)"
   ]
  },
  {
   "cell_type": "code",
   "execution_count": 60,
   "id": "fd16f234",
   "metadata": {},
   "outputs": [
    {
     "data": {
      "text/html": [
       "<div>\n",
       "<style scoped>\n",
       "    .dataframe tbody tr th:only-of-type {\n",
       "        vertical-align: middle;\n",
       "    }\n",
       "\n",
       "    .dataframe tbody tr th {\n",
       "        vertical-align: top;\n",
       "    }\n",
       "\n",
       "    .dataframe thead th {\n",
       "        text-align: right;\n",
       "    }\n",
       "</style>\n",
       "<table border=\"1\" class=\"dataframe\">\n",
       "  <thead>\n",
       "    <tr style=\"text-align: right;\">\n",
       "      <th></th>\n",
       "      <th>show_id</th>\n",
       "      <th>type</th>\n",
       "      <th>title</th>\n",
       "      <th>director</th>\n",
       "      <th>country_x</th>\n",
       "      <th>date_added</th>\n",
       "      <th>release_year</th>\n",
       "      <th>rating</th>\n",
       "      <th>duration</th>\n",
       "      <th>listed_in</th>\n",
       "      <th>month</th>\n",
       "      <th>added_year</th>\n",
       "      <th>cast_y</th>\n",
       "      <th>country_y</th>\n",
       "    </tr>\n",
       "  </thead>\n",
       "  <tbody>\n",
       "    <tr>\n",
       "      <th>0</th>\n",
       "      <td>s1</td>\n",
       "      <td>Movie</td>\n",
       "      <td>Dick Johnson Is Dead</td>\n",
       "      <td>Kirsten Johnson</td>\n",
       "      <td>United States</td>\n",
       "      <td>2021-09-25</td>\n",
       "      <td>2020</td>\n",
       "      <td>PG-13</td>\n",
       "      <td>90 min</td>\n",
       "      <td>Documentaries</td>\n",
       "      <td>September</td>\n",
       "      <td>2021</td>\n",
       "      <td>Others</td>\n",
       "      <td>United States</td>\n",
       "    </tr>\n",
       "    <tr>\n",
       "      <th>1</th>\n",
       "      <td>s2</td>\n",
       "      <td>TV Show</td>\n",
       "      <td>Blood &amp; Water</td>\n",
       "      <td>Others</td>\n",
       "      <td>South Africa</td>\n",
       "      <td>2021-09-24</td>\n",
       "      <td>2021</td>\n",
       "      <td>TV-MA</td>\n",
       "      <td>2 Seasons</td>\n",
       "      <td>International TV Shows, TV Dramas, TV Mysteries</td>\n",
       "      <td>September</td>\n",
       "      <td>2021</td>\n",
       "      <td>Ama Qamata</td>\n",
       "      <td>South Africa</td>\n",
       "    </tr>\n",
       "  </tbody>\n",
       "</table>\n",
       "</div>"
      ],
      "text/plain": [
       "  show_id     type                 title         director      country_x  \\\n",
       "0      s1    Movie  Dick Johnson Is Dead  Kirsten Johnson  United States   \n",
       "1      s2  TV Show         Blood & Water           Others   South Africa   \n",
       "\n",
       "  date_added  release_year rating   duration  \\\n",
       "0 2021-09-25          2020  PG-13     90 min   \n",
       "1 2021-09-24          2021  TV-MA  2 Seasons   \n",
       "\n",
       "                                         listed_in      month  added_year  \\\n",
       "0                                    Documentaries  September        2021   \n",
       "1  International TV Shows, TV Dramas, TV Mysteries  September        2021   \n",
       "\n",
       "       cast_y      country_y  \n",
       "0      Others  United States  \n",
       "1  Ama Qamata   South Africa  "
      ]
     },
     "execution_count": 60,
     "metadata": {},
     "output_type": "execute_result"
    }
   ],
   "source": [
    "data.head(2)"
   ]
  },
  {
   "cell_type": "code",
   "execution_count": 61,
   "id": "66f16236",
   "metadata": {},
   "outputs": [],
   "source": [
    "data.drop([\"country_x\"],axis=1,inplace=True)\n"
   ]
  },
  {
   "cell_type": "code",
   "execution_count": 62,
   "id": "e103b62e",
   "metadata": {},
   "outputs": [
    {
     "data": {
      "text/html": [
       "<div>\n",
       "<style scoped>\n",
       "    .dataframe tbody tr th:only-of-type {\n",
       "        vertical-align: middle;\n",
       "    }\n",
       "\n",
       "    .dataframe tbody tr th {\n",
       "        vertical-align: top;\n",
       "    }\n",
       "\n",
       "    .dataframe thead th {\n",
       "        text-align: right;\n",
       "    }\n",
       "</style>\n",
       "<table border=\"1\" class=\"dataframe\">\n",
       "  <thead>\n",
       "    <tr style=\"text-align: right;\">\n",
       "      <th></th>\n",
       "      <th>show_id</th>\n",
       "      <th>type</th>\n",
       "      <th>title</th>\n",
       "      <th>director</th>\n",
       "      <th>date_added</th>\n",
       "      <th>release_year</th>\n",
       "      <th>rating</th>\n",
       "      <th>duration</th>\n",
       "      <th>listed_in</th>\n",
       "      <th>month</th>\n",
       "      <th>added_year</th>\n",
       "      <th>cast_y</th>\n",
       "      <th>country_y</th>\n",
       "    </tr>\n",
       "  </thead>\n",
       "  <tbody>\n",
       "    <tr>\n",
       "      <th>0</th>\n",
       "      <td>s1</td>\n",
       "      <td>Movie</td>\n",
       "      <td>Dick Johnson Is Dead</td>\n",
       "      <td>Kirsten Johnson</td>\n",
       "      <td>2021-09-25</td>\n",
       "      <td>2020</td>\n",
       "      <td>PG-13</td>\n",
       "      <td>90 min</td>\n",
       "      <td>Documentaries</td>\n",
       "      <td>September</td>\n",
       "      <td>2021</td>\n",
       "      <td>Others</td>\n",
       "      <td>United States</td>\n",
       "    </tr>\n",
       "    <tr>\n",
       "      <th>1</th>\n",
       "      <td>s2</td>\n",
       "      <td>TV Show</td>\n",
       "      <td>Blood &amp; Water</td>\n",
       "      <td>Others</td>\n",
       "      <td>2021-09-24</td>\n",
       "      <td>2021</td>\n",
       "      <td>TV-MA</td>\n",
       "      <td>2 Seasons</td>\n",
       "      <td>International TV Shows, TV Dramas, TV Mysteries</td>\n",
       "      <td>September</td>\n",
       "      <td>2021</td>\n",
       "      <td>Ama Qamata</td>\n",
       "      <td>South Africa</td>\n",
       "    </tr>\n",
       "  </tbody>\n",
       "</table>\n",
       "</div>"
      ],
      "text/plain": [
       "  show_id     type                 title         director date_added  \\\n",
       "0      s1    Movie  Dick Johnson Is Dead  Kirsten Johnson 2021-09-25   \n",
       "1      s2  TV Show         Blood & Water           Others 2021-09-24   \n",
       "\n",
       "   release_year rating   duration  \\\n",
       "0          2020  PG-13     90 min   \n",
       "1          2021  TV-MA  2 Seasons   \n",
       "\n",
       "                                         listed_in      month  added_year  \\\n",
       "0                                    Documentaries  September        2021   \n",
       "1  International TV Shows, TV Dramas, TV Mysteries  September        2021   \n",
       "\n",
       "       cast_y      country_y  \n",
       "0      Others  United States  \n",
       "1  Ama Qamata   South Africa  "
      ]
     },
     "execution_count": 62,
     "metadata": {},
     "output_type": "execute_result"
    }
   ],
   "source": [
    "data.head(2)"
   ]
  },
  {
   "cell_type": "code",
   "execution_count": 63,
   "id": "4d42c22f",
   "metadata": {},
   "outputs": [
    {
     "data": {
      "text/html": [
       "<div>\n",
       "<style scoped>\n",
       "    .dataframe tbody tr th:only-of-type {\n",
       "        vertical-align: middle;\n",
       "    }\n",
       "\n",
       "    .dataframe tbody tr th {\n",
       "        vertical-align: top;\n",
       "    }\n",
       "\n",
       "    .dataframe thead th {\n",
       "        text-align: right;\n",
       "    }\n",
       "</style>\n",
       "<table border=\"1\" class=\"dataframe\">\n",
       "  <thead>\n",
       "    <tr style=\"text-align: right;\">\n",
       "      <th></th>\n",
       "      <th>show_id</th>\n",
       "      <th>type</th>\n",
       "      <th>title</th>\n",
       "      <th>director</th>\n",
       "      <th>date_added</th>\n",
       "      <th>release_year</th>\n",
       "      <th>rating</th>\n",
       "      <th>duration</th>\n",
       "      <th>Genre</th>\n",
       "      <th>month</th>\n",
       "      <th>added_year</th>\n",
       "      <th>cast</th>\n",
       "      <th>country</th>\n",
       "    </tr>\n",
       "  </thead>\n",
       "  <tbody>\n",
       "    <tr>\n",
       "      <th>0</th>\n",
       "      <td>s1</td>\n",
       "      <td>Movie</td>\n",
       "      <td>Dick Johnson Is Dead</td>\n",
       "      <td>Kirsten Johnson</td>\n",
       "      <td>2021-09-25</td>\n",
       "      <td>2020</td>\n",
       "      <td>PG-13</td>\n",
       "      <td>90 min</td>\n",
       "      <td>Documentaries</td>\n",
       "      <td>September</td>\n",
       "      <td>2021</td>\n",
       "      <td>Others</td>\n",
       "      <td>United States</td>\n",
       "    </tr>\n",
       "    <tr>\n",
       "      <th>1</th>\n",
       "      <td>s2</td>\n",
       "      <td>TV Show</td>\n",
       "      <td>Blood &amp; Water</td>\n",
       "      <td>Others</td>\n",
       "      <td>2021-09-24</td>\n",
       "      <td>2021</td>\n",
       "      <td>TV-MA</td>\n",
       "      <td>2 Seasons</td>\n",
       "      <td>International TV Shows, TV Dramas, TV Mysteries</td>\n",
       "      <td>September</td>\n",
       "      <td>2021</td>\n",
       "      <td>Ama Qamata</td>\n",
       "      <td>South Africa</td>\n",
       "    </tr>\n",
       "    <tr>\n",
       "      <th>2</th>\n",
       "      <td>s2</td>\n",
       "      <td>TV Show</td>\n",
       "      <td>Blood &amp; Water</td>\n",
       "      <td>Others</td>\n",
       "      <td>2021-09-24</td>\n",
       "      <td>2021</td>\n",
       "      <td>TV-MA</td>\n",
       "      <td>2 Seasons</td>\n",
       "      <td>International TV Shows, TV Dramas, TV Mysteries</td>\n",
       "      <td>September</td>\n",
       "      <td>2021</td>\n",
       "      <td>Ama Qamata</td>\n",
       "      <td>South Africa</td>\n",
       "    </tr>\n",
       "    <tr>\n",
       "      <th>3</th>\n",
       "      <td>s2</td>\n",
       "      <td>TV Show</td>\n",
       "      <td>Blood &amp; Water</td>\n",
       "      <td>Others</td>\n",
       "      <td>2021-09-24</td>\n",
       "      <td>2021</td>\n",
       "      <td>TV-MA</td>\n",
       "      <td>2 Seasons</td>\n",
       "      <td>International TV Shows, TV Dramas, TV Mysteries</td>\n",
       "      <td>September</td>\n",
       "      <td>2021</td>\n",
       "      <td>Ama Qamata</td>\n",
       "      <td>South Africa</td>\n",
       "    </tr>\n",
       "    <tr>\n",
       "      <th>4</th>\n",
       "      <td>s2</td>\n",
       "      <td>TV Show</td>\n",
       "      <td>Blood &amp; Water</td>\n",
       "      <td>Others</td>\n",
       "      <td>2021-09-24</td>\n",
       "      <td>2021</td>\n",
       "      <td>TV-MA</td>\n",
       "      <td>2 Seasons</td>\n",
       "      <td>International TV Shows, TV Dramas, TV Mysteries</td>\n",
       "      <td>September</td>\n",
       "      <td>2021</td>\n",
       "      <td>Ama Qamata</td>\n",
       "      <td>South Africa</td>\n",
       "    </tr>\n",
       "  </tbody>\n",
       "</table>\n",
       "</div>"
      ],
      "text/plain": [
       "  show_id     type                 title         director date_added  \\\n",
       "0      s1    Movie  Dick Johnson Is Dead  Kirsten Johnson 2021-09-25   \n",
       "1      s2  TV Show         Blood & Water           Others 2021-09-24   \n",
       "2      s2  TV Show         Blood & Water           Others 2021-09-24   \n",
       "3      s2  TV Show         Blood & Water           Others 2021-09-24   \n",
       "4      s2  TV Show         Blood & Water           Others 2021-09-24   \n",
       "\n",
       "   release_year rating   duration  \\\n",
       "0          2020  PG-13     90 min   \n",
       "1          2021  TV-MA  2 Seasons   \n",
       "2          2021  TV-MA  2 Seasons   \n",
       "3          2021  TV-MA  2 Seasons   \n",
       "4          2021  TV-MA  2 Seasons   \n",
       "\n",
       "                                             Genre      month  added_year  \\\n",
       "0                                    Documentaries  September        2021   \n",
       "1  International TV Shows, TV Dramas, TV Mysteries  September        2021   \n",
       "2  International TV Shows, TV Dramas, TV Mysteries  September        2021   \n",
       "3  International TV Shows, TV Dramas, TV Mysteries  September        2021   \n",
       "4  International TV Shows, TV Dramas, TV Mysteries  September        2021   \n",
       "\n",
       "         cast        country  \n",
       "0      Others  United States  \n",
       "1  Ama Qamata   South Africa  \n",
       "2  Ama Qamata   South Africa  \n",
       "3  Ama Qamata   South Africa  \n",
       "4  Ama Qamata   South Africa  "
      ]
     },
     "execution_count": 63,
     "metadata": {},
     "output_type": "execute_result"
    }
   ],
   "source": [
    "data.rename(columns={\"cast_y\":\"cast\",\"country_y\":\"country\",\"listed_in\":\"Genre\"},inplace=True)\n",
    "data.head(5)"
   ]
  },
  {
   "cell_type": "markdown",
   "id": "443428bd",
   "metadata": {},
   "source": [
    "#### Column : Genre"
   ]
  },
  {
   "cell_type": "code",
   "execution_count": 64,
   "id": "aae3f70c",
   "metadata": {},
   "outputs": [],
   "source": [
    "data = data.assign(genre=data['Genre'].str.split(', ')).explode('Genre')"
   ]
  },
  {
   "cell_type": "code",
   "execution_count": 65,
   "id": "d5a8879a",
   "metadata": {},
   "outputs": [
    {
     "data": {
      "text/html": [
       "<div>\n",
       "<style scoped>\n",
       "    .dataframe tbody tr th:only-of-type {\n",
       "        vertical-align: middle;\n",
       "    }\n",
       "\n",
       "    .dataframe tbody tr th {\n",
       "        vertical-align: top;\n",
       "    }\n",
       "\n",
       "    .dataframe thead th {\n",
       "        text-align: right;\n",
       "    }\n",
       "</style>\n",
       "<table border=\"1\" class=\"dataframe\">\n",
       "  <thead>\n",
       "    <tr style=\"text-align: right;\">\n",
       "      <th></th>\n",
       "      <th>show_id</th>\n",
       "      <th>type</th>\n",
       "      <th>title</th>\n",
       "      <th>director</th>\n",
       "      <th>date_added</th>\n",
       "      <th>release_year</th>\n",
       "      <th>rating</th>\n",
       "      <th>duration</th>\n",
       "      <th>Genre</th>\n",
       "      <th>month</th>\n",
       "      <th>added_year</th>\n",
       "      <th>cast</th>\n",
       "      <th>country</th>\n",
       "      <th>genre</th>\n",
       "    </tr>\n",
       "  </thead>\n",
       "  <tbody>\n",
       "    <tr>\n",
       "      <th>0</th>\n",
       "      <td>s1</td>\n",
       "      <td>Movie</td>\n",
       "      <td>Dick Johnson Is Dead</td>\n",
       "      <td>Kirsten Johnson</td>\n",
       "      <td>2021-09-25</td>\n",
       "      <td>2020</td>\n",
       "      <td>PG-13</td>\n",
       "      <td>90 min</td>\n",
       "      <td>Documentaries</td>\n",
       "      <td>September</td>\n",
       "      <td>2021</td>\n",
       "      <td>Others</td>\n",
       "      <td>United States</td>\n",
       "      <td>[Documentaries]</td>\n",
       "    </tr>\n",
       "    <tr>\n",
       "      <th>1</th>\n",
       "      <td>s2</td>\n",
       "      <td>TV Show</td>\n",
       "      <td>Blood &amp; Water</td>\n",
       "      <td>Others</td>\n",
       "      <td>2021-09-24</td>\n",
       "      <td>2021</td>\n",
       "      <td>TV-MA</td>\n",
       "      <td>2 Seasons</td>\n",
       "      <td>International TV Shows, TV Dramas, TV Mysteries</td>\n",
       "      <td>September</td>\n",
       "      <td>2021</td>\n",
       "      <td>Ama Qamata</td>\n",
       "      <td>South Africa</td>\n",
       "      <td>[International TV Shows, TV Dramas, TV Mysteries]</td>\n",
       "    </tr>\n",
       "  </tbody>\n",
       "</table>\n",
       "</div>"
      ],
      "text/plain": [
       "  show_id     type                 title         director date_added  \\\n",
       "0      s1    Movie  Dick Johnson Is Dead  Kirsten Johnson 2021-09-25   \n",
       "1      s2  TV Show         Blood & Water           Others 2021-09-24   \n",
       "\n",
       "   release_year rating   duration  \\\n",
       "0          2020  PG-13     90 min   \n",
       "1          2021  TV-MA  2 Seasons   \n",
       "\n",
       "                                             Genre      month  added_year  \\\n",
       "0                                    Documentaries  September        2021   \n",
       "1  International TV Shows, TV Dramas, TV Mysteries  September        2021   \n",
       "\n",
       "         cast        country  \\\n",
       "0      Others  United States   \n",
       "1  Ama Qamata   South Africa   \n",
       "\n",
       "                                               genre  \n",
       "0                                    [Documentaries]  \n",
       "1  [International TV Shows, TV Dramas, TV Mysteries]  "
      ]
     },
     "execution_count": 65,
     "metadata": {},
     "output_type": "execute_result"
    }
   ],
   "source": [
    "data.head(2)"
   ]
  },
  {
   "cell_type": "code",
   "execution_count": 66,
   "id": "ac1cc82b",
   "metadata": {},
   "outputs": [
    {
     "data": {
      "text/plain": [
       "(852854, 14)"
      ]
     },
     "execution_count": 66,
     "metadata": {},
     "output_type": "execute_result"
    }
   ],
   "source": [
    "data.shape"
   ]
  },
  {
   "cell_type": "markdown",
   "id": "03231dc2",
   "metadata": {},
   "source": [
    "#### Column : Duration"
   ]
  },
  {
   "cell_type": "code",
   "execution_count": 67,
   "id": "4ae01988",
   "metadata": {},
   "outputs": [],
   "source": [
    "data['runtime'] = data['duration'].apply (lambda x: str(x).split(' ')[1])\n",
    "data['duration'] = data['duration'].apply(lambda x: str(x).split(' ')[0])"
   ]
  },
  {
   "cell_type": "code",
   "execution_count": 68,
   "id": "c4134700",
   "metadata": {},
   "outputs": [],
   "source": [
    "data['duration'] = data['duration'].astype(int)"
   ]
  },
  {
   "cell_type": "markdown",
   "id": "14d7d881",
   "metadata": {},
   "source": [
    "#### Column : added"
   ]
  },
  {
   "cell_type": "code",
   "execution_count": 69,
   "id": "246e9962",
   "metadata": {},
   "outputs": [],
   "source": [
    "data['month'] = data['date_added'].dt.month_name()\n",
    "data['added_year'] = data['date_added'].dt.year"
   ]
  },
  {
   "cell_type": "code",
   "execution_count": 70,
   "id": "2f71d679",
   "metadata": {},
   "outputs": [
    {
     "data": {
      "text/html": [
       "<div>\n",
       "<style scoped>\n",
       "    .dataframe tbody tr th:only-of-type {\n",
       "        vertical-align: middle;\n",
       "    }\n",
       "\n",
       "    .dataframe tbody tr th {\n",
       "        vertical-align: top;\n",
       "    }\n",
       "\n",
       "    .dataframe thead th {\n",
       "        text-align: right;\n",
       "    }\n",
       "</style>\n",
       "<table border=\"1\" class=\"dataframe\">\n",
       "  <thead>\n",
       "    <tr style=\"text-align: right;\">\n",
       "      <th></th>\n",
       "      <th>show_id</th>\n",
       "      <th>type</th>\n",
       "      <th>title</th>\n",
       "      <th>director</th>\n",
       "      <th>date_added</th>\n",
       "      <th>release_year</th>\n",
       "      <th>rating</th>\n",
       "      <th>duration</th>\n",
       "      <th>Genre</th>\n",
       "      <th>month</th>\n",
       "      <th>added_year</th>\n",
       "      <th>cast</th>\n",
       "      <th>country</th>\n",
       "      <th>genre</th>\n",
       "      <th>runtime</th>\n",
       "    </tr>\n",
       "  </thead>\n",
       "  <tbody>\n",
       "    <tr>\n",
       "      <th>0</th>\n",
       "      <td>s1</td>\n",
       "      <td>Movie</td>\n",
       "      <td>Dick Johnson Is Dead</td>\n",
       "      <td>Kirsten Johnson</td>\n",
       "      <td>2021-09-25</td>\n",
       "      <td>2020</td>\n",
       "      <td>PG-13</td>\n",
       "      <td>90</td>\n",
       "      <td>Documentaries</td>\n",
       "      <td>September</td>\n",
       "      <td>2021</td>\n",
       "      <td>Others</td>\n",
       "      <td>United States</td>\n",
       "      <td>[Documentaries]</td>\n",
       "      <td>min</td>\n",
       "    </tr>\n",
       "    <tr>\n",
       "      <th>1</th>\n",
       "      <td>s2</td>\n",
       "      <td>TV Show</td>\n",
       "      <td>Blood &amp; Water</td>\n",
       "      <td>Others</td>\n",
       "      <td>2021-09-24</td>\n",
       "      <td>2021</td>\n",
       "      <td>TV-MA</td>\n",
       "      <td>2</td>\n",
       "      <td>International TV Shows, TV Dramas, TV Mysteries</td>\n",
       "      <td>September</td>\n",
       "      <td>2021</td>\n",
       "      <td>Ama Qamata</td>\n",
       "      <td>South Africa</td>\n",
       "      <td>[International TV Shows, TV Dramas, TV Mysteries]</td>\n",
       "      <td>Seasons</td>\n",
       "    </tr>\n",
       "  </tbody>\n",
       "</table>\n",
       "</div>"
      ],
      "text/plain": [
       "  show_id     type                 title         director date_added  \\\n",
       "0      s1    Movie  Dick Johnson Is Dead  Kirsten Johnson 2021-09-25   \n",
       "1      s2  TV Show         Blood & Water           Others 2021-09-24   \n",
       "\n",
       "   release_year rating  duration  \\\n",
       "0          2020  PG-13        90   \n",
       "1          2021  TV-MA         2   \n",
       "\n",
       "                                             Genre      month  added_year  \\\n",
       "0                                    Documentaries  September        2021   \n",
       "1  International TV Shows, TV Dramas, TV Mysteries  September        2021   \n",
       "\n",
       "         cast        country  \\\n",
       "0      Others  United States   \n",
       "1  Ama Qamata   South Africa   \n",
       "\n",
       "                                               genre  runtime  \n",
       "0                                    [Documentaries]      min  \n",
       "1  [International TV Shows, TV Dramas, TV Mysteries]  Seasons  "
      ]
     },
     "execution_count": 70,
     "metadata": {},
     "output_type": "execute_result"
    }
   ],
   "source": [
    "data.head(2)"
   ]
  },
  {
   "cell_type": "markdown",
   "id": "88114dc4",
   "metadata": {},
   "source": [
    "## Data visualisation"
   ]
  },
  {
   "cell_type": "markdown",
   "id": "b1e67700",
   "metadata": {},
   "source": [
    "## 1. Comparing the Distribution of Movies and TV shows"
   ]
  },
  {
   "cell_type": "code",
   "execution_count": 71,
   "id": "dda60864",
   "metadata": {},
   "outputs": [
    {
     "data": {
      "text/plain": [
       "Movie      69.62\n",
       "TV Show    30.38\n",
       "Name: type, dtype: float64"
      ]
     },
     "execution_count": 71,
     "metadata": {},
     "output_type": "execute_result"
    }
   ],
   "source": [
    "(((data_copy['type'].value_counts())/len(data_copy[\"type\"]))*100).round(2)"
   ]
  },
  {
   "cell_type": "code",
   "execution_count": 72,
   "id": "45fcacca",
   "metadata": {},
   "outputs": [],
   "source": [
    "def make_autopct(values):\n",
    "    def my_autopct(pct):\n",
    "        total = sum(values)\n",
    "        val = int(round(pct*total/100.0))\n",
    "        return '{p:.2f}% '.format(p=pct)\n",
    "    return my_autopct"
   ]
  },
  {
   "cell_type": "code",
   "execution_count": 73,
   "id": "2f603585",
   "metadata": {},
   "outputs": [
    {
     "data": {
      "image/png": "[encoded data removed]",
      "text/plain": [
       "<Figure size 432x288 with 1 Axes>"
      ]
     },
     "metadata": {},
     "output_type": "display_data"
    }
   ],
   "source": [
    "plt.pie(data_copy[\"type\"].value_counts(),explode=(0.03,0.03),labels=[\"Movie\",\"TV Show\"],startangle = 90,autopct=make_autopct(data_copy[\"type\"].value_counts()))\n",
    "plt.title(\"Movies and TV shows\")\n",
    "plt.show()"
   ]
  },
  {
   "cell_type": "markdown",
   "id": "648804d3",
   "metadata": {},
   "source": [
    "***Observation***\n",
    "- 69.62% are Movies and 30.38% are TV shows"
   ]
  },
  {
   "cell_type": "markdown",
   "id": "e905bdc1",
   "metadata": {},
   "source": [
    " ### INSIGHTS : Movies are more popular than TV shows"
   ]
  },
  {
   "cell_type": "markdown",
   "id": "6f26a275",
   "metadata": {},
   "source": [
    "## 2. Most popular type of rating"
   ]
  },
  {
   "cell_type": "markdown",
   "id": "549c274e",
   "metadata": {},
   "source": [
    "Top 5 rating"
   ]
  },
  {
   "cell_type": "code",
   "execution_count": 74,
   "id": "69fa8272",
   "metadata": {},
   "outputs": [],
   "source": [
    "rating = data_copy[\"rating\"].value_counts().reset_index()[:6]"
   ]
  },
  {
   "cell_type": "code",
   "execution_count": 75,
   "id": "5ee88b7c",
   "metadata": {},
   "outputs": [
    {
     "data": {
      "image/png": "[encoded data removed]",
      "text/plain": [
       "<Figure size 432x288 with 1 Axes>"
      ]
     },
     "metadata": {
      "needs_background": "light"
     },
     "output_type": "display_data"
    }
   ],
   "source": [
    "sns.barplot(y = rating['index'],x=rating['rating'],data = rating)\n",
    "plt.xlabel('Count')\n",
    "plt.ylabel('Ratings')\n",
    "plt.title('Top 10 ratings being watched')\n",
    "plt.show()\n"
   ]
  },
  {
   "cell_type": "markdown",
   "id": "57f4e18f",
   "metadata": {},
   "source": [
    " ### INSIGHTS : Mature audience TV shows (TV-MA) are more popular followed by shows for kids  of age 14 and above\n"
   ]
  },
  {
   "cell_type": "markdown",
   "id": "163429e8",
   "metadata": {},
   "source": [
    "## 3. Country"
   ]
  },
  {
   "cell_type": "code",
   "execution_count": 76,
   "id": "2525c436",
   "metadata": {},
   "outputs": [],
   "source": [
    "count_movies_per_country = movies.groupby(['country'])[\"type\"].count().sort_values(ascending=False)\n",
    "data_movies_per_country = pd.DataFrame(count_movies_per_country)"
   ]
  },
  {
   "cell_type": "code",
   "execution_count": 77,
   "id": "58138ea8",
   "metadata": {},
   "outputs": [],
   "source": [
    "data_movies_per_country.rename(columns={'type':'count'},inplace = True)"
   ]
  },
  {
   "cell_type": "code",
   "execution_count": 78,
   "id": "d271789b",
   "metadata": {},
   "outputs": [],
   "source": [
    "data_movies_per_country = data_movies_per_country.reset_index()[:10]"
   ]
  },
  {
   "cell_type": "code",
   "execution_count": 79,
   "id": "b3a19b2a",
   "metadata": {},
   "outputs": [
    {
     "data": {
      "text/html": [
       "<div>\n",
       "<style scoped>\n",
       "    .dataframe tbody tr th:only-of-type {\n",
       "        vertical-align: middle;\n",
       "    }\n",
       "\n",
       "    .dataframe tbody tr th {\n",
       "        vertical-align: top;\n",
       "    }\n",
       "\n",
       "    .dataframe thead th {\n",
       "        text-align: right;\n",
       "    }\n",
       "</style>\n",
       "<table border=\"1\" class=\"dataframe\">\n",
       "  <thead>\n",
       "    <tr style=\"text-align: right;\">\n",
       "      <th></th>\n",
       "      <th>country</th>\n",
       "      <th>count</th>\n",
       "    </tr>\n",
       "  </thead>\n",
       "  <tbody>\n",
       "    <tr>\n",
       "      <th>0</th>\n",
       "      <td>United States</td>\n",
       "      <td>2498</td>\n",
       "    </tr>\n",
       "    <tr>\n",
       "      <th>1</th>\n",
       "      <td>India</td>\n",
       "      <td>893</td>\n",
       "    </tr>\n",
       "    <tr>\n",
       "      <th>2</th>\n",
       "      <td>United Kingdom</td>\n",
       "      <td>206</td>\n",
       "    </tr>\n",
       "    <tr>\n",
       "      <th>3</th>\n",
       "      <td>Canada</td>\n",
       "      <td>122</td>\n",
       "    </tr>\n",
       "    <tr>\n",
       "      <th>4</th>\n",
       "      <td>Spain</td>\n",
       "      <td>97</td>\n",
       "    </tr>\n",
       "    <tr>\n",
       "      <th>5</th>\n",
       "      <td>Egypt</td>\n",
       "      <td>92</td>\n",
       "    </tr>\n",
       "    <tr>\n",
       "      <th>6</th>\n",
       "      <td>Nigeria</td>\n",
       "      <td>86</td>\n",
       "    </tr>\n",
       "    <tr>\n",
       "      <th>7</th>\n",
       "      <td>Indonesia</td>\n",
       "      <td>77</td>\n",
       "    </tr>\n",
       "    <tr>\n",
       "      <th>8</th>\n",
       "      <td>Turkey</td>\n",
       "      <td>76</td>\n",
       "    </tr>\n",
       "    <tr>\n",
       "      <th>9</th>\n",
       "      <td>Japan</td>\n",
       "      <td>76</td>\n",
       "    </tr>\n",
       "  </tbody>\n",
       "</table>\n",
       "</div>"
      ],
      "text/plain": [
       "          country  count\n",
       "0   United States   2498\n",
       "1           India    893\n",
       "2  United Kingdom    206\n",
       "3          Canada    122\n",
       "4           Spain     97\n",
       "5           Egypt     92\n",
       "6         Nigeria     86\n",
       "7       Indonesia     77\n",
       "8          Turkey     76\n",
       "9           Japan     76"
      ]
     },
     "execution_count": 79,
     "metadata": {},
     "output_type": "execute_result"
    }
   ],
   "source": [
    "data_movies_per_country"
   ]
  },
  {
   "cell_type": "code",
   "execution_count": 80,
   "id": "e5c7081b",
   "metadata": {},
   "outputs": [],
   "source": [
    "count_series_per_country = series.groupby(['country'])[\"type\"].count().sort_values(ascending=False)\n",
    "data_series_per_country = pd.DataFrame(count_series_per_country)"
   ]
  },
  {
   "cell_type": "code",
   "execution_count": 81,
   "id": "88d3263a",
   "metadata": {},
   "outputs": [],
   "source": [
    "data_series_per_country.rename(columns={'type':'count'},inplace = True)"
   ]
  },
  {
   "cell_type": "code",
   "execution_count": 82,
   "id": "3ca5266d",
   "metadata": {},
   "outputs": [],
   "source": [
    "data_series_per_country = data_series_per_country.reset_index()[:10]\n"
   ]
  },
  {
   "cell_type": "code",
   "execution_count": 83,
   "id": "442101f1",
   "metadata": {},
   "outputs": [
    {
     "data": {
      "text/html": [
       "<div>\n",
       "<style scoped>\n",
       "    .dataframe tbody tr th:only-of-type {\n",
       "        vertical-align: middle;\n",
       "    }\n",
       "\n",
       "    .dataframe tbody tr th {\n",
       "        vertical-align: top;\n",
       "    }\n",
       "\n",
       "    .dataframe thead th {\n",
       "        text-align: right;\n",
       "    }\n",
       "</style>\n",
       "<table border=\"1\" class=\"dataframe\">\n",
       "  <thead>\n",
       "    <tr style=\"text-align: right;\">\n",
       "      <th></th>\n",
       "      <th>country</th>\n",
       "      <th>count</th>\n",
       "    </tr>\n",
       "  </thead>\n",
       "  <tbody>\n",
       "    <tr>\n",
       "      <th>0</th>\n",
       "      <td>United States</td>\n",
       "      <td>1151</td>\n",
       "    </tr>\n",
       "    <tr>\n",
       "      <th>1</th>\n",
       "      <td>United Kingdom</td>\n",
       "      <td>213</td>\n",
       "    </tr>\n",
       "    <tr>\n",
       "      <th>2</th>\n",
       "      <td>Japan</td>\n",
       "      <td>169</td>\n",
       "    </tr>\n",
       "    <tr>\n",
       "      <th>3</th>\n",
       "      <td>South Korea</td>\n",
       "      <td>158</td>\n",
       "    </tr>\n",
       "    <tr>\n",
       "      <th>4</th>\n",
       "      <td>India</td>\n",
       "      <td>79</td>\n",
       "    </tr>\n",
       "    <tr>\n",
       "      <th>5</th>\n",
       "      <td>Taiwan</td>\n",
       "      <td>68</td>\n",
       "    </tr>\n",
       "    <tr>\n",
       "      <th>6</th>\n",
       "      <td>Canada</td>\n",
       "      <td>59</td>\n",
       "    </tr>\n",
       "    <tr>\n",
       "      <th>7</th>\n",
       "      <td>France</td>\n",
       "      <td>49</td>\n",
       "    </tr>\n",
       "    <tr>\n",
       "      <th>8</th>\n",
       "      <td>Australia</td>\n",
       "      <td>48</td>\n",
       "    </tr>\n",
       "    <tr>\n",
       "      <th>9</th>\n",
       "      <td>Spain</td>\n",
       "      <td>48</td>\n",
       "    </tr>\n",
       "  </tbody>\n",
       "</table>\n",
       "</div>"
      ],
      "text/plain": [
       "          country  count\n",
       "0   United States   1151\n",
       "1  United Kingdom    213\n",
       "2           Japan    169\n",
       "3     South Korea    158\n",
       "4           India     79\n",
       "5          Taiwan     68\n",
       "6          Canada     59\n",
       "7          France     49\n",
       "8       Australia     48\n",
       "9           Spain     48"
      ]
     },
     "execution_count": 83,
     "metadata": {},
     "output_type": "execute_result"
    }
   ],
   "source": [
    "data_series_per_country"
   ]
  },
  {
   "cell_type": "code",
   "execution_count": 84,
   "id": "a61c7295",
   "metadata": {},
   "outputs": [],
   "source": [
    "merge_plot=data_movies_per_country.merge(data_series_per_country, on = 'country', how = 'outer')"
   ]
  },
  {
   "cell_type": "code",
   "execution_count": 85,
   "id": "19d6e7fc",
   "metadata": {},
   "outputs": [
    {
     "data": {
      "text/html": [
       "<div>\n",
       "<style scoped>\n",
       "    .dataframe tbody tr th:only-of-type {\n",
       "        vertical-align: middle;\n",
       "    }\n",
       "\n",
       "    .dataframe tbody tr th {\n",
       "        vertical-align: top;\n",
       "    }\n",
       "\n",
       "    .dataframe thead th {\n",
       "        text-align: right;\n",
       "    }\n",
       "</style>\n",
       "<table border=\"1\" class=\"dataframe\">\n",
       "  <thead>\n",
       "    <tr style=\"text-align: right;\">\n",
       "      <th></th>\n",
       "      <th>country</th>\n",
       "      <th>count_x</th>\n",
       "      <th>count_y</th>\n",
       "    </tr>\n",
       "  </thead>\n",
       "  <tbody>\n",
       "    <tr>\n",
       "      <th>0</th>\n",
       "      <td>United States</td>\n",
       "      <td>2498.0</td>\n",
       "      <td>1151.0</td>\n",
       "    </tr>\n",
       "    <tr>\n",
       "      <th>1</th>\n",
       "      <td>India</td>\n",
       "      <td>893.0</td>\n",
       "      <td>79.0</td>\n",
       "    </tr>\n",
       "    <tr>\n",
       "      <th>2</th>\n",
       "      <td>United Kingdom</td>\n",
       "      <td>206.0</td>\n",
       "      <td>213.0</td>\n",
       "    </tr>\n",
       "    <tr>\n",
       "      <th>3</th>\n",
       "      <td>Canada</td>\n",
       "      <td>122.0</td>\n",
       "      <td>59.0</td>\n",
       "    </tr>\n",
       "    <tr>\n",
       "      <th>4</th>\n",
       "      <td>Spain</td>\n",
       "      <td>97.0</td>\n",
       "      <td>48.0</td>\n",
       "    </tr>\n",
       "    <tr>\n",
       "      <th>5</th>\n",
       "      <td>Egypt</td>\n",
       "      <td>92.0</td>\n",
       "      <td>NaN</td>\n",
       "    </tr>\n",
       "    <tr>\n",
       "      <th>6</th>\n",
       "      <td>Nigeria</td>\n",
       "      <td>86.0</td>\n",
       "      <td>NaN</td>\n",
       "    </tr>\n",
       "    <tr>\n",
       "      <th>7</th>\n",
       "      <td>Indonesia</td>\n",
       "      <td>77.0</td>\n",
       "      <td>NaN</td>\n",
       "    </tr>\n",
       "    <tr>\n",
       "      <th>8</th>\n",
       "      <td>Turkey</td>\n",
       "      <td>76.0</td>\n",
       "      <td>NaN</td>\n",
       "    </tr>\n",
       "    <tr>\n",
       "      <th>9</th>\n",
       "      <td>Japan</td>\n",
       "      <td>76.0</td>\n",
       "      <td>169.0</td>\n",
       "    </tr>\n",
       "    <tr>\n",
       "      <th>10</th>\n",
       "      <td>South Korea</td>\n",
       "      <td>NaN</td>\n",
       "      <td>158.0</td>\n",
       "    </tr>\n",
       "    <tr>\n",
       "      <th>11</th>\n",
       "      <td>Taiwan</td>\n",
       "      <td>NaN</td>\n",
       "      <td>68.0</td>\n",
       "    </tr>\n",
       "    <tr>\n",
       "      <th>12</th>\n",
       "      <td>France</td>\n",
       "      <td>NaN</td>\n",
       "      <td>49.0</td>\n",
       "    </tr>\n",
       "    <tr>\n",
       "      <th>13</th>\n",
       "      <td>Australia</td>\n",
       "      <td>NaN</td>\n",
       "      <td>48.0</td>\n",
       "    </tr>\n",
       "  </tbody>\n",
       "</table>\n",
       "</div>"
      ],
      "text/plain": [
       "           country  count_x  count_y\n",
       "0    United States   2498.0   1151.0\n",
       "1            India    893.0     79.0\n",
       "2   United Kingdom    206.0    213.0\n",
       "3           Canada    122.0     59.0\n",
       "4            Spain     97.0     48.0\n",
       "5            Egypt     92.0      NaN\n",
       "6          Nigeria     86.0      NaN\n",
       "7        Indonesia     77.0      NaN\n",
       "8           Turkey     76.0      NaN\n",
       "9            Japan     76.0    169.0\n",
       "10     South Korea      NaN    158.0\n",
       "11          Taiwan      NaN     68.0\n",
       "12          France      NaN     49.0\n",
       "13       Australia      NaN     48.0"
      ]
     },
     "execution_count": 85,
     "metadata": {},
     "output_type": "execute_result"
    }
   ],
   "source": [
    "merge_plot"
   ]
  },
  {
   "cell_type": "code",
   "execution_count": 86,
   "id": "9227c289",
   "metadata": {},
   "outputs": [],
   "source": [
    "merge_plot['count_x'].replace(np.nan,0, inplace =True)\n",
    "merge_plot['count_y'].replace(np.nan,0, inplace =True)"
   ]
  },
  {
   "cell_type": "code",
   "execution_count": 87,
   "id": "36c043a2",
   "metadata": {},
   "outputs": [],
   "source": [
    "merge_plot.rename(columns = {'count_x':'movies_count','count_y':'series_count'},inplace=True)"
   ]
  },
  {
   "cell_type": "code",
   "execution_count": 88,
   "id": "6071b194",
   "metadata": {},
   "outputs": [],
   "source": [
    "merge_plot.index = np.arange(1, len(merge_plot)+1)"
   ]
  },
  {
   "cell_type": "code",
   "execution_count": 89,
   "id": "c74f02ab",
   "metadata": {},
   "outputs": [],
   "source": [
    "merge_plot =merge_plot.set_index('country')"
   ]
  },
  {
   "cell_type": "code",
   "execution_count": 90,
   "id": "6672d65e",
   "metadata": {},
   "outputs": [
    {
     "data": {
      "text/html": [
       "<div>\n",
       "<style scoped>\n",
       "    .dataframe tbody tr th:only-of-type {\n",
       "        vertical-align: middle;\n",
       "    }\n",
       "\n",
       "    .dataframe tbody tr th {\n",
       "        vertical-align: top;\n",
       "    }\n",
       "\n",
       "    .dataframe thead th {\n",
       "        text-align: right;\n",
       "    }\n",
       "</style>\n",
       "<table border=\"1\" class=\"dataframe\">\n",
       "  <thead>\n",
       "    <tr style=\"text-align: right;\">\n",
       "      <th></th>\n",
       "      <th>movies_count</th>\n",
       "      <th>series_count</th>\n",
       "    </tr>\n",
       "    <tr>\n",
       "      <th>country</th>\n",
       "      <th></th>\n",
       "      <th></th>\n",
       "    </tr>\n",
       "  </thead>\n",
       "  <tbody>\n",
       "    <tr>\n",
       "      <th>United States</th>\n",
       "      <td>2498.0</td>\n",
       "      <td>1151.0</td>\n",
       "    </tr>\n",
       "    <tr>\n",
       "      <th>India</th>\n",
       "      <td>893.0</td>\n",
       "      <td>79.0</td>\n",
       "    </tr>\n",
       "    <tr>\n",
       "      <th>United Kingdom</th>\n",
       "      <td>206.0</td>\n",
       "      <td>213.0</td>\n",
       "    </tr>\n",
       "    <tr>\n",
       "      <th>Canada</th>\n",
       "      <td>122.0</td>\n",
       "      <td>59.0</td>\n",
       "    </tr>\n",
       "    <tr>\n",
       "      <th>Spain</th>\n",
       "      <td>97.0</td>\n",
       "      <td>48.0</td>\n",
       "    </tr>\n",
       "    <tr>\n",
       "      <th>Egypt</th>\n",
       "      <td>92.0</td>\n",
       "      <td>0.0</td>\n",
       "    </tr>\n",
       "    <tr>\n",
       "      <th>Nigeria</th>\n",
       "      <td>86.0</td>\n",
       "      <td>0.0</td>\n",
       "    </tr>\n",
       "    <tr>\n",
       "      <th>Indonesia</th>\n",
       "      <td>77.0</td>\n",
       "      <td>0.0</td>\n",
       "    </tr>\n",
       "    <tr>\n",
       "      <th>Turkey</th>\n",
       "      <td>76.0</td>\n",
       "      <td>0.0</td>\n",
       "    </tr>\n",
       "    <tr>\n",
       "      <th>Japan</th>\n",
       "      <td>76.0</td>\n",
       "      <td>169.0</td>\n",
       "    </tr>\n",
       "    <tr>\n",
       "      <th>South Korea</th>\n",
       "      <td>0.0</td>\n",
       "      <td>158.0</td>\n",
       "    </tr>\n",
       "    <tr>\n",
       "      <th>Taiwan</th>\n",
       "      <td>0.0</td>\n",
       "      <td>68.0</td>\n",
       "    </tr>\n",
       "    <tr>\n",
       "      <th>France</th>\n",
       "      <td>0.0</td>\n",
       "      <td>49.0</td>\n",
       "    </tr>\n",
       "    <tr>\n",
       "      <th>Australia</th>\n",
       "      <td>0.0</td>\n",
       "      <td>48.0</td>\n",
       "    </tr>\n",
       "  </tbody>\n",
       "</table>\n",
       "</div>"
      ],
      "text/plain": [
       "                movies_count  series_count\n",
       "country                                   \n",
       "United States         2498.0        1151.0\n",
       "India                  893.0          79.0\n",
       "United Kingdom         206.0         213.0\n",
       "Canada                 122.0          59.0\n",
       "Spain                   97.0          48.0\n",
       "Egypt                   92.0           0.0\n",
       "Nigeria                 86.0           0.0\n",
       "Indonesia               77.0           0.0\n",
       "Turkey                  76.0           0.0\n",
       "Japan                   76.0         169.0\n",
       "South Korea              0.0         158.0\n",
       "Taiwan                   0.0          68.0\n",
       "France                   0.0          49.0\n",
       "Australia                0.0          48.0"
      ]
     },
     "execution_count": 90,
     "metadata": {},
     "output_type": "execute_result"
    }
   ],
   "source": [
    "merge_plot"
   ]
  },
  {
   "cell_type": "code",
   "execution_count": 91,
   "id": "98124214",
   "metadata": {},
   "outputs": [
    {
     "data": {
      "image/png": "[encoded data removed]",
      "text/plain": [
       "<Figure size 432x288 with 1 Axes>"
      ]
     },
     "metadata": {
      "needs_background": "light"
     },
     "output_type": "display_data"
    }
   ],
   "source": [
    "merge_plot.plot(kind='bar',stacked=True)\n",
    "plt.title('Country with the movies and series distribution')\n",
    "plt.xlabel('Countries')\n",
    "plt.ylabel('Counts')\n",
    "plt.show()\n"
   ]
  },
  {
   "cell_type": "code",
   "execution_count": 92,
   "id": "1c966c79",
   "metadata": {},
   "outputs": [
    {
     "data": {
      "image/png": "[encoded data removed]",
      "text/plain": [
       "<Figure size 1080x720 with 1 Axes>"
      ]
     },
     "metadata": {
      "needs_background": "light"
     },
     "output_type": "display_data"
    }
   ],
   "source": [
    "plt.figure(figsize=(15,10))\n",
    "sns.countplot(data= data_copy, x= 'country' , hue= 'type',order = data[\"country\"].value_counts().index[:10])\n",
    "plt.legend(loc=\"upper right\")\n",
    "plt.show()"
   ]
  },
  {
   "cell_type": "markdown",
   "id": "fb9c1e92",
   "metadata": {},
   "source": [
    "### INSIGHTS : It is observed that United states leads the world in both TV shows and Movies, India stands second in the list, followed by United kingdom and Japan.\n",
    "### In India, it is observed that TV shows are least popular compared to movies\n",
    "### In South Korea and Japan, TV shows are more popular compate to movies"
   ]
  },
  {
   "cell_type": "markdown",
   "id": "b37577b6",
   "metadata": {},
   "source": [
    "# Growth of Netflix content over the years"
   ]
  },
  {
   "cell_type": "code",
   "execution_count": 93,
   "id": "6ee72a45",
   "metadata": {},
   "outputs": [],
   "source": [
    "data_copy['month'] = data_copy['date_added'].dt.month_name()\n",
    "data_copy['added_year'] = data_copy['date_added'].dt.year"
   ]
  },
  {
   "cell_type": "code",
   "execution_count": 94,
   "id": "232092e4",
   "metadata": {},
   "outputs": [],
   "source": [
    "count_movies_per_year = data_copy.groupby(['added_year'])[\"type\"].count().sort_values(ascending=False)\n",
    "df_movies_per_year = pd.DataFrame(count_movies_per_year)\n"
   ]
  },
  {
   "cell_type": "code",
   "execution_count": 95,
   "id": "032e43f9",
   "metadata": {},
   "outputs": [],
   "source": [
    "df_movies_per_year.rename(columns={'type':'count'},inplace = True)\n",
    "df_movies_per_year = df_movies_per_year.reset_index()[:10]"
   ]
  },
  {
   "cell_type": "code",
   "execution_count": 96,
   "id": "f303fc71",
   "metadata": {},
   "outputs": [
    {
     "data": {
      "text/html": [
       "<div>\n",
       "<style scoped>\n",
       "    .dataframe tbody tr th:only-of-type {\n",
       "        vertical-align: middle;\n",
       "    }\n",
       "\n",
       "    .dataframe tbody tr th {\n",
       "        vertical-align: top;\n",
       "    }\n",
       "\n",
       "    .dataframe thead th {\n",
       "        text-align: right;\n",
       "    }\n",
       "</style>\n",
       "<table border=\"1\" class=\"dataframe\">\n",
       "  <thead>\n",
       "    <tr style=\"text-align: right;\">\n",
       "      <th></th>\n",
       "      <th>added_year</th>\n",
       "      <th>count</th>\n",
       "    </tr>\n",
       "  </thead>\n",
       "  <tbody>\n",
       "    <tr>\n",
       "      <th>0</th>\n",
       "      <td>2019</td>\n",
       "      <td>2016</td>\n",
       "    </tr>\n",
       "    <tr>\n",
       "      <th>1</th>\n",
       "      <td>2020</td>\n",
       "      <td>1889</td>\n",
       "    </tr>\n",
       "    <tr>\n",
       "      <th>2</th>\n",
       "      <td>2018</td>\n",
       "      <td>1649</td>\n",
       "    </tr>\n",
       "    <tr>\n",
       "      <th>3</th>\n",
       "      <td>2021</td>\n",
       "      <td>1498</td>\n",
       "    </tr>\n",
       "    <tr>\n",
       "      <th>4</th>\n",
       "      <td>2017</td>\n",
       "      <td>1188</td>\n",
       "    </tr>\n",
       "    <tr>\n",
       "      <th>5</th>\n",
       "      <td>2016</td>\n",
       "      <td>429</td>\n",
       "    </tr>\n",
       "    <tr>\n",
       "      <th>6</th>\n",
       "      <td>2015</td>\n",
       "      <td>82</td>\n",
       "    </tr>\n",
       "    <tr>\n",
       "      <th>7</th>\n",
       "      <td>2014</td>\n",
       "      <td>24</td>\n",
       "    </tr>\n",
       "    <tr>\n",
       "      <th>8</th>\n",
       "      <td>2011</td>\n",
       "      <td>13</td>\n",
       "    </tr>\n",
       "    <tr>\n",
       "      <th>9</th>\n",
       "      <td>2013</td>\n",
       "      <td>11</td>\n",
       "    </tr>\n",
       "  </tbody>\n",
       "</table>\n",
       "</div>"
      ],
      "text/plain": [
       "   added_year  count\n",
       "0        2019   2016\n",
       "1        2020   1889\n",
       "2        2018   1649\n",
       "3        2021   1498\n",
       "4        2017   1188\n",
       "5        2016    429\n",
       "6        2015     82\n",
       "7        2014     24\n",
       "8        2011     13\n",
       "9        2013     11"
      ]
     },
     "execution_count": 96,
     "metadata": {},
     "output_type": "execute_result"
    }
   ],
   "source": [
    "df_movies_per_year"
   ]
  },
  {
   "cell_type": "code",
   "execution_count": 97,
   "id": "be5adaa6",
   "metadata": {},
   "outputs": [
    {
     "data": {
      "image/png": "[encoded data removed]",
      "text/plain": [
       "<Figure size 432x288 with 1 Axes>"
      ]
     },
     "metadata": {
      "needs_background": "light"
     },
     "output_type": "display_data"
    }
   ],
   "source": [
    "sns.lineplot(x = df_movies_per_year['added_year'],y = df_movies_per_year['count'],data=df_movies_per_year)\n",
    "plt.xlabel('years')\n",
    "plt.ylabel('count')\n",
    "plt.title('Movies and TV shows')\n",
    "plt.show()\n"
   ]
  },
  {
   "cell_type": "markdown",
   "id": "8669229e",
   "metadata": {},
   "source": [
    "## INSIGHTS\n",
    "### There is a increase in the number of content produced from 2014 to 2018, this might be due to the internet being easily made available for everyone, thus with better internet and cheaper plans, users started using OTT more liberally\n",
    "\n",
    "### But after 2019, popularity takes a slump, this might be due to the COVID pandemic, since the entire world was on lockdown, it would have been difficult for the movie/TV show production to happen, Hence hastily created content are less popular"
   ]
  },
  {
   "cell_type": "markdown",
   "id": "71af0f02",
   "metadata": {},
   "source": [
    "## RECOMMENDATIONS : \n",
    "- Movies vs TV shows : It is observed that Movies are more popular content among viewers than TV shows\n",
    "- 69.62% are Movies and 30.38% are TV shows\n",
    "- Hence it is recommended that netflix should concentrate more on making movies\n"
   ]
  },
  {
   "cell_type": "markdown",
   "id": "0886b529",
   "metadata": {},
   "source": [
    "- TV shows for mature audience (TV-MA) are more popular with over 3211 entries than content rated otherwise\n",
    "- It is followed by TV-14 (2160 entries) for kids of 14 years and above\n",
    "- Hence it is recommended that netflix should produce content for Adults and Kids "
   ]
  },
  {
   "cell_type": "markdown",
   "id": "55cb6e46",
   "metadata": {},
   "source": [
    "- Movies and TV shows from United states from United States are the most popular\n",
    "- Almost 2498 movies and 1151 TV shows are from United states\n",
    "- It is followed by India with over 893 movies and 79 TV shows\n",
    "- Netlflix should be working with content creators from United States"
   ]
  },
  {
   "cell_type": "markdown",
   "id": "87a93e7a",
   "metadata": {},
   "source": [
    "- Content from 2014 to 2018 are more popular, compared to the preceeding or the succeeding years\n",
    "- COVID pandemic has significantly affected the Content creation post 2019"
   ]
  },
  {
   "cell_type": "code",
   "execution_count": null,
   "id": "c59fd044",
   "metadata": {},
   "outputs": [],
   "source": []
  }
 ],
 "metadata": {
  "kernelspec": {
   "display_name": "Python 3 (ipykernel)",
   "language": "python",
   "name": "python3"
  },
  "language_info": {
   "codemirror_mode": {
    "name": "ipython",
    "version": 3
   },
   "file_extension": ".py",
   "mimetype": "text/x-python",
   "name": "python",
   "nbconvert_exporter": "python",
   "pygments_lexer": "ipython3",
   "version": "3.9.7"
  }
 },
 "nbformat": 4,
 "nbformat_minor": 5
}
